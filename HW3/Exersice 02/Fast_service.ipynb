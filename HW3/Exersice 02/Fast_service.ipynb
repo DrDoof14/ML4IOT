{
 "cells": [
  {
   "cell_type": "code",
   "execution_count": 32,
   "id": "d860491c",
   "metadata": {},
   "outputs": [
    {
     "name": "stdout",
     "output_type": "stream",
     "text": [
      "CommunicationCost : 1.280 MB\n",
      "Accuracy: 92.12\n",
      "Total Inference time: 12.15 ms\n"
     ]
    }
   ],
   "source": [
    "import sys\n",
    "import requests\n",
    "import tensorflow as tf\n",
    "import numpy as np\n",
    "from scipy.special import softmax\n",
    "import time \n",
    "import json\n",
    "\n",
    "url = 'http://192.168.1.127:8080/predict'#we have to use the laptop/PC IP address\n",
    "sampling_rate = 16000\n",
    "frame_length = int(0.04 * sampling_rate)\n",
    "frame_step = int(0.02 * sampling_rate)\n",
    "num_mel_bins = 25\n",
    "lower_freq = 20\n",
    "upper_freq = 4000\n",
    "coefficients = 10\n",
    "num_spectrogram_bins = frame_length // 2 + 1\n",
    "linear_to_mel_weight_matrix = tf.signal.linear_to_mel_weight_matrix(\n",
    "        num_mel_bins, num_spectrogram_bins, sampling_rate, lower_freq, upper_freq)\n",
    "model_path = \"../Prerequisite/kws_dscnn_True.tflite\"\n",
    "test_files = list(open('../Prerequisite/kws_test_split.txt', 'r'))\n",
    "test_files = [s.rstrip() for s in test_files]\n",
    "LABELS = ['stop', 'up', 'yes', 'right', 'left', 'no', 'down', 'go']\n",
    "seed = 42\n",
    "tf.random.set_seed(seed)\n",
    "np.random.seed(seed)\n",
    "\n",
    "actual_labels = []\n",
    "for i in test_files:\n",
    "    tmp = i.replace('./data/mini_speech_commands/', '')\n",
    "    loc_slash = tmp.find('/')\n",
    "    actual_labels.append(LABELS.index(tmp[:loc_slash]))\n",
    "actual_labels = np.array(actual_labels)\n",
    "\n",
    "\n",
    "def mfcc(tf_audio):\n",
    "    audio = tf.squeeze(tf_audio, 1)\n",
    "    if tf.shape(audio)!=16000:\n",
    "        zero_padding = tf.zeros([sampling_rate] - tf.shape(audio), dtype=tf.float32)\n",
    "        audio = tf.concat([audio, zero_padding], 0)\n",
    "        audio.set_shape([sampling_rate])\n",
    "    stft = tf.signal.stft(audio, frame_length, frame_step, fft_length=frame_length)\n",
    "    spectrogram = tf.abs(stft)\n",
    "    mel_spectrogram = tf.tensordot(spectrogram, linear_to_mel_weight_matrix, 1)\n",
    "    log_mel_spectrogram = tf.math.log(mel_spectrogram + 1.e-6)\n",
    "    mfccs = tf.signal.mfccs_from_log_mel_spectrograms(log_mel_spectrogram)\n",
    "    mfccs = mfccs[..., :coefficients]\n",
    "    mfccs = tf.expand_dims(mfccs, -1)\n",
    "    mfccs = tf.expand_dims(mfccs, 0)\n",
    "\n",
    "    return mfccs\n",
    "\n",
    "\n",
    "#stft option for preprocessing if needed\n",
    "\n",
    "def stft(audio):\n",
    "    tf_audio = tf.squeeze(audio, 1)\n",
    "    zero_padding = tf.zeros([sampling_rate] - tf.shape(tf_audio), dtype=tf.float32)\n",
    "    audio = tf.concat([tf_audio, zero_padding], 0)\n",
    "    audio.set_shape([sampling_rate])\n",
    "    stft = tf.signal.stft(audio, frame_length, frame_step, fft_length=frame_length)\n",
    "    spectrogram = tf.abs(stft)\n",
    "    spectrogram = tf.expand_dims(spectrogram, -1)\n",
    "    spectrogram = tf.expand_dims(spectrogram, 0)\n",
    "    spectrogram = tf.image.resize(spectrogram, [49, 10])\n",
    "    return spectrogram\n",
    "\n",
    "\n",
    "zip_path = tf.keras.utils.get_file(\n",
    "    origin=\"http://storage.googleapis.com/download.tensorflow.org/data/mini_speech_commands.zip\",\n",
    "    fname='mini_speech_commands.zip',\n",
    "    extract=True,\n",
    "    cache_dir='.', cache_subdir='data')\n",
    "\n",
    "interpreter = tf.lite.Interpreter(model_path=model_path)\n",
    "interpreter.allocate_tensors()\n",
    "input_details = interpreter.get_input_details()\n",
    "output_details = interpreter.get_output_details()\n",
    "predicted_labels = []\n",
    "CommunicationCost = 0\n",
    "total_time=0\n",
    "for i in range(len(test_files)):\n",
    "    audio = tf.io.read_file(test_files[i])\n",
    "    tf_audio, _ = tf.audio.decode_wav(audio)\n",
    "    start=time.time() \n",
    "    interpreter.set_tensor(input_details[0]['index'], mfcc(tf_audio)) #have to change to mfcc if you want to use it here\n",
    "    interpreter.invoke()\n",
    "    predict_result = interpreter.get_tensor(output_details[0]['index'])\n",
    "    end=time.time()\n",
    "    total_time+=end-start\n",
    "    predicted_label = np.argmax(predict_result)\n",
    "    softmax_predict_result = softmax(predict_result[0])\n",
    "    #option 1 for success checker (The biggest probability)\n",
    "    \n",
    "    max_prediction = max(list(map(lambda x: float(\"{:.8f}\".format(float(x * 100))), softmax_predict_result)))\n",
    "    \n",
    "    #option 2 for success checker (difference between two biggest probabilities)\n",
    "    \n",
    "    list_of_predictions=list(map(lambda x: float(\"{:.8f}\".format(float(x * 100))), softmax_predict_result))\n",
    "    sorted_predictions=sorted(list_of_predictions,reverse=True)\n",
    "    difference=sorted_predictions[0]-sorted_predictions[1]\n",
    "\n",
    "\n",
    "\n",
    "#if you want to use the second option, changes max_prediction variable to difference variable\n",
    "\n",
    "    if difference <4 and max_prediction < 65: \n",
    "        t = tf_audio.numpy().tolist()\n",
    "        msg = {'Audio': t}\n",
    "        CommunicationCost += sys.getsizeof(json.dumps(msg))\n",
    "\n",
    "        try:\n",
    "            req = requests.put(url, json=msg)\n",
    "            if req.status_code == 200:\n",
    "                body = req.json()\n",
    "                predicted_labels.append(int(body.get('predicted_label')))\n",
    "            else:\n",
    "                print('Error:', req.text)\n",
    "        except requests.exceptions.Timeout:\n",
    "            print('Timeout !!')\n",
    "        except requests.exceptions.TooManyRedirects:\n",
    "            print('80d URL !!')\n",
    "        except requests.exceptions.RequestException:\n",
    "            print('Big problem !!')\n",
    "\n",
    "    else:\n",
    "        predicted_labels.append(predicted_label)\n",
    "\n",
    "print(\"CommunicationCost : {:.3f} MB\".format(CommunicationCost * 0.000001))\n",
    "\n",
    "predicted_labels = np.array(predicted_labels)\n",
    "acc = tf.keras.metrics.Accuracy()\n",
    "acc.update_state(predicted_labels, actual_labels)\n",
    "print(\"Accuracy: {:.2f}\".format(acc.result().numpy()*100))\n",
    "print(\"Total Inference time: {:.2f} ms\".format(int(total_time * 1000)/len(test_files)))"
   ]
  },
  {
   "cell_type": "code",
   "execution_count": 33,
   "id": "b38ee539",
   "metadata": {},
   "outputs": [
    {
     "data": {
      "text/plain": [
       "19"
      ]
     },
     "execution_count": 33,
     "metadata": {},
     "output_type": "execute_result"
    }
   ],
   "source": [
    "output_details[0]['index']"
   ]
  },
  {
   "cell_type": "code",
   "execution_count": 34,
   "id": "5511d70c",
   "metadata": {},
   "outputs": [
    {
     "data": {
      "text/plain": [
       "0"
      ]
     },
     "execution_count": 34,
     "metadata": {},
     "output_type": "execute_result"
    }
   ],
   "source": [
    "input_details[0]['index']"
   ]
  },
  {
   "cell_type": "code",
   "execution_count": null,
   "id": "e521a1bf",
   "metadata": {},
   "outputs": [],
   "source": []
  }
 ],
 "metadata": {
  "kernelspec": {
   "display_name": "Python 3 (ipykernel)",
   "language": "python",
   "name": "python3"
  },
  "language_info": {
   "codemirror_mode": {
    "name": "ipython",
    "version": 3
   },
   "file_extension": ".py",
   "mimetype": "text/x-python",
   "name": "python",
   "nbconvert_exporter": "python",
   "pygments_lexer": "ipython3",
   "version": "3.9.7"
  }
 },
 "nbformat": 4,
 "nbformat_minor": 5
}
