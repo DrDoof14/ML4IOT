{
 "cells": [
  {
   "cell_type": "code",
   "execution_count": 7,
   "id": "ae014dfe",
   "metadata": {},
   "outputs": [
    {
     "name": "stdout",
     "output_type": "stream",
     "text": [
      "0\n",
      "Error: \n",
      "1\n",
      "Error: \n",
      "2\n",
      "Error: \n",
      "3\n",
      "Error: \n",
      "4\n",
      "Error: \n",
      "5\n",
      "Error: \n",
      "6\n",
      "Error: \n",
      "7\n",
      "Error: \n",
      "8\n",
      "Error: \n",
      "9\n",
      "Error: \n",
      "10\n",
      "Error: \n",
      "11\n",
      "Error: \n",
      "12\n",
      "Error: \n",
      "13\n",
      "Error: \n",
      "14\n",
      "Error: \n",
      "15\n",
      "Error: \n",
      "16\n"
     ]
    },
    {
     "ename": "ValueError",
     "evalue": "Cannot set tensor: Dimension mismatch. Got 40 but expected 49 for dimension 1 of input 0.",
     "output_type": "error",
     "traceback": [
      "\u001b[1;31m---------------------------------------------------------------------------\u001b[0m",
      "\u001b[1;31mValueError\u001b[0m                                Traceback (most recent call last)",
      "\u001b[1;32m~\\AppData\\Local\\Temp/ipykernel_14016/3182397385.py\u001b[0m in \u001b[0;36m<module>\u001b[1;34m\u001b[0m\n\u001b[0;32m     62\u001b[0m     \u001b[0maudio\u001b[0m \u001b[1;33m=\u001b[0m \u001b[0mtf\u001b[0m\u001b[1;33m.\u001b[0m\u001b[0mio\u001b[0m\u001b[1;33m.\u001b[0m\u001b[0mread_file\u001b[0m\u001b[1;33m(\u001b[0m\u001b[0mtest_files\u001b[0m\u001b[1;33m[\u001b[0m\u001b[0mi\u001b[0m\u001b[1;33m]\u001b[0m\u001b[1;33m)\u001b[0m\u001b[1;33m\u001b[0m\u001b[1;33m\u001b[0m\u001b[0m\n\u001b[0;32m     63\u001b[0m \u001b[1;31m#     audio_base64 = base64.b64encode(audio)\u001b[0m\u001b[1;33m\u001b[0m\u001b[1;33m\u001b[0m\u001b[0m\n\u001b[1;32m---> 64\u001b[1;33m     \u001b[0minterpreter\u001b[0m\u001b[1;33m.\u001b[0m\u001b[0mset_tensor\u001b[0m\u001b[1;33m(\u001b[0m\u001b[0minput_details\u001b[0m\u001b[1;33m[\u001b[0m\u001b[1;36m0\u001b[0m\u001b[1;33m]\u001b[0m\u001b[1;33m[\u001b[0m\u001b[1;34m'index'\u001b[0m\u001b[1;33m]\u001b[0m\u001b[1;33m,\u001b[0m \u001b[0mmfcc\u001b[0m\u001b[1;33m(\u001b[0m\u001b[0maudio\u001b[0m\u001b[1;33m)\u001b[0m\u001b[1;33m)\u001b[0m\u001b[1;33m\u001b[0m\u001b[1;33m\u001b[0m\u001b[0m\n\u001b[0m\u001b[0;32m     65\u001b[0m     \u001b[0minterpreter\u001b[0m\u001b[1;33m.\u001b[0m\u001b[0minvoke\u001b[0m\u001b[1;33m(\u001b[0m\u001b[1;33m)\u001b[0m\u001b[1;33m\u001b[0m\u001b[1;33m\u001b[0m\u001b[0m\n\u001b[0;32m     66\u001b[0m     \u001b[0mpredict_result\u001b[0m \u001b[1;33m=\u001b[0m \u001b[0minterpreter\u001b[0m\u001b[1;33m.\u001b[0m\u001b[0mget_tensor\u001b[0m\u001b[1;33m(\u001b[0m\u001b[0moutput_details\u001b[0m\u001b[1;33m[\u001b[0m\u001b[1;36m0\u001b[0m\u001b[1;33m]\u001b[0m\u001b[1;33m[\u001b[0m\u001b[1;34m'index'\u001b[0m\u001b[1;33m]\u001b[0m\u001b[1;33m)\u001b[0m\u001b[1;33m\u001b[0m\u001b[1;33m\u001b[0m\u001b[0m\n",
      "\u001b[1;32m~\\anaconda3\\envs\\tf\\lib\\site-packages\\tensorflow\\lite\\python\\interpreter.py\u001b[0m in \u001b[0;36mset_tensor\u001b[1;34m(self, tensor_index, value)\u001b[0m\n\u001b[0;32m    703\u001b[0m       \u001b[0mValueError\u001b[0m\u001b[1;33m:\u001b[0m \u001b[0mIf\u001b[0m \u001b[0mthe\u001b[0m \u001b[0minterpreter\u001b[0m \u001b[0mcould\u001b[0m \u001b[1;32mnot\u001b[0m \u001b[0mset\u001b[0m \u001b[0mthe\u001b[0m \u001b[0mtensor\u001b[0m\u001b[1;33m.\u001b[0m\u001b[1;33m\u001b[0m\u001b[1;33m\u001b[0m\u001b[0m\n\u001b[0;32m    704\u001b[0m     \"\"\"\n\u001b[1;32m--> 705\u001b[1;33m     \u001b[0mself\u001b[0m\u001b[1;33m.\u001b[0m\u001b[0m_interpreter\u001b[0m\u001b[1;33m.\u001b[0m\u001b[0mSetTensor\u001b[0m\u001b[1;33m(\u001b[0m\u001b[0mtensor_index\u001b[0m\u001b[1;33m,\u001b[0m \u001b[0mvalue\u001b[0m\u001b[1;33m)\u001b[0m\u001b[1;33m\u001b[0m\u001b[1;33m\u001b[0m\u001b[0m\n\u001b[0m\u001b[0;32m    706\u001b[0m \u001b[1;33m\u001b[0m\u001b[0m\n\u001b[0;32m    707\u001b[0m   \u001b[1;32mdef\u001b[0m \u001b[0mresize_tensor_input\u001b[0m\u001b[1;33m(\u001b[0m\u001b[0mself\u001b[0m\u001b[1;33m,\u001b[0m \u001b[0minput_index\u001b[0m\u001b[1;33m,\u001b[0m \u001b[0mtensor_size\u001b[0m\u001b[1;33m,\u001b[0m \u001b[0mstrict\u001b[0m\u001b[1;33m=\u001b[0m\u001b[1;32mFalse\u001b[0m\u001b[1;33m)\u001b[0m\u001b[1;33m:\u001b[0m\u001b[1;33m\u001b[0m\u001b[1;33m\u001b[0m\u001b[0m\n",
      "\u001b[1;31mValueError\u001b[0m: Cannot set tensor: Dimension mismatch. Got 40 but expected 49 for dimension 1 of input 0."
     ]
    }
   ],
   "source": [
    "import base64\n",
    "import requests\n",
    "import tensorflow as tf\n",
    "import numpy as np\n",
    "from scipy.special import softmax\n",
    "\n",
    "url = 'http://127.0.0.1:8080/predict'\n",
    "sampling_rate = 16000\n",
    "frame_length = int(0.04 * sampling_rate)\n",
    "frame_step = int(0.02 * sampling_rate)\n",
    "num_mel_bins = 40\n",
    "lower_freq = 20\n",
    "upper_freq = 4000\n",
    "coefficients = 10\n",
    "num_spectrogram_bins = frame_length // 2 + 1\n",
    "model_path = \"../Prerequisite/kws_dscnn_True.tflite\"\n",
    "test_files = list(open('../Prerequisite/kws_test_split.txt', 'r'))\n",
    "test_files = [s.rstrip() for s in test_files]\n",
    "LABELS = ['stop', 'up', 'yes', 'right', 'left', 'no', 'down', 'go']\n",
    "seed = 42\n",
    "tf.random.set_seed(seed)\n",
    "np.random.seed(seed)\n",
    "\n",
    "actual_label = []\n",
    "for i in test_files:\n",
    "    tmp = i.replace('./data/mini_speech_commands/', '')\n",
    "    loc_slash = tmp.find('/')\n",
    "    actual_label.append(LABELS.index(tmp[:loc_slash]))\n",
    "actual_label = np.array(actual_label)\n",
    "\n",
    "\n",
    "def mfcc(audio):\n",
    "    tf_audio, rate = tf.audio.decode_wav(audio)\n",
    "    tf_audio = tf.squeeze(tf_audio, 1)\n",
    "    stft = tf.signal.stft(tf_audio, frame_length, frame_step, fft_length=frame_length)\n",
    "    spectrogram = tf.abs(stft)\n",
    "    linear_to_mel_weight_matrix = tf.signal.linear_to_mel_weight_matrix(\n",
    "        num_mel_bins, num_spectrogram_bins, sampling_rate, lower_freq, upper_freq)\n",
    "    mel_spectrogram = tf.tensordot(spectrogram, linear_to_mel_weight_matrix, 1)\n",
    "    log_mel_spectrogram = tf.math.log(mel_spectrogram + 1.e-6)\n",
    "    mfccs = tf.signal.mfccs_from_log_mel_spectrograms(log_mel_spectrogram)\n",
    "    mfccs = mfccs[..., :coefficients]\n",
    "    mfccs = tf.expand_dims(mfccs, -1)\n",
    "    mfccs = tf.expand_dims(mfccs, 0)\n",
    "\n",
    "    return mfccs\n",
    "\n",
    "\n",
    "zip_path = tf.keras.utils.get_file(\n",
    "    origin=\"http://storage.googleapis.com/download.tensorflow.org/data/mini_speech_commands.zip\",\n",
    "    fname='mini_speech_commands.zip',\n",
    "    extract=True,\n",
    "    cache_dir='.', cache_subdir='data')\n",
    "\n",
    "interpreter = tf.lite.Interpreter(model_path=model_path)\n",
    "interpreter.allocate_tensors()\n",
    "input_details = interpreter.get_input_details()\n",
    "output_details = interpreter.get_output_details()\n",
    "predicted_labels = []\n",
    "for i in range(len(test_files)):\n",
    "    print(i)\n",
    "    audio = tf.io.read_file(test_files[i])\n",
    "#     audio_base64 = base64.b64encode(audio)\n",
    "    interpreter.set_tensor(input_details[0]['index'], mfcc(audio))\n",
    "    interpreter.invoke()\n",
    "    predict_result = interpreter.get_tensor(output_details[0]['index'])\n",
    "    predicted_label = np.argmax(predict_result)\n",
    "#     print(predict_result[0])\n",
    "#     print(predicted_label)\n",
    "    softmax_predict_result = softmax(predict_result[0])\n",
    "    max_prediction = max(list(map(lambda x: float(\"{:.8f}\".format(float(x * 100))), softmax_predict_result)))\n",
    "#     print(max_prediction)\n",
    "    if max_prediction < 100:\n",
    "        msg = {'Audio': audio_base64.decode()}\n",
    "        req = requests.post(url, json=msg)\n",
    "        if req.status_code == 200:\n",
    "            body = req.json()\n",
    "            print(body.get('predicted_label'))\n",
    "            predicted_labels.append(body.get('predicted_label'))\n",
    "        else:\n",
    "            print('Error:', req.text)\n",
    "    else:\n",
    "        predicted_labels.append(predicted_label)\n"
   ]
  },
  {
   "cell_type": "code",
   "execution_count": 10,
   "id": "f4a9957a",
   "metadata": {},
   "outputs": [
    {
     "data": {
      "text/plain": [
       "'./data/mini_speech_commands/stop/e55a2b20_nohash_1.wav'"
      ]
     },
     "execution_count": 10,
     "metadata": {},
     "output_type": "execute_result"
    }
   ],
   "source": [
    "test_files[16]"
   ]
  },
  {
   "cell_type": "code",
   "execution_count": null,
   "id": "46705248",
   "metadata": {},
   "outputs": [],
   "source": []
  }
 ],
 "metadata": {
  "kernelspec": {
   "display_name": "Python 3 (ipykernel)",
   "language": "python",
   "name": "python3"
  },
  "language_info": {
   "codemirror_mode": {
    "name": "ipython",
    "version": 3
   },
   "file_extension": ".py",
   "mimetype": "text/x-python",
   "name": "python",
   "nbconvert_exporter": "python",
   "pygments_lexer": "ipython3",
   "version": "3.9.7"
  }
 },
 "nbformat": 4,
 "nbformat_minor": 5
}
