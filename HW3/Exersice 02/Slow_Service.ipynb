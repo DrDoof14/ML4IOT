{
 "cells": [
  {
   "cell_type": "code",
   "execution_count": 1,
   "id": "25335778",
   "metadata": {},
   "outputs": [],
   "source": [
    "import numpy as np\n",
    "import json\n",
    "import cherrypy\n",
    "import tensorflow as tf"
   ]
  },
  {
   "cell_type": "code",
   "execution_count": null,
   "id": "2165d3e2",
   "metadata": {},
   "outputs": [],
   "source": []
  },
  {
   "cell_type": "code",
   "execution_count": null,
   "id": "8a4b8c94",
   "metadata": {},
   "outputs": [],
   "source": [
    "#code for using a tflite model for prediction\n",
    "\n",
    "\n",
    "interpreter = tf.lite.Interpreter(model_path=models_path)\n",
    "interpreter.allocate_tensors()\n",
    "input_details = interpreter.get_input_details()\n",
    "output_details = interpreter.get_output_details()\n",
    "\n",
    "\n",
    "\n",
    "# input_data = np.array([temperature_list, humidity_list], dtype=np.float32)\n",
    "# input_data = input_data.reshape(1, 6, 2)\n",
    "interpreter.set_tensor(input_details[0]['index'], input_data)\n",
    "interpreter.invoke()\n",
    "predict_result = interpreter.get_tensor(output_details[0]['index'])\n",
    "\n"
   ]
  }
 ],
 "metadata": {
  "kernelspec": {
   "display_name": "Python 3 (ipykernel)",
   "language": "python",
   "name": "python3"
  },
  "language_info": {
   "codemirror_mode": {
    "name": "ipython",
    "version": 3
   },
   "file_extension": ".py",
   "mimetype": "text/x-python",
   "name": "python",
   "nbconvert_exporter": "python",
   "pygments_lexer": "ipython3",
   "version": "3.9.7"
  }
 },
 "nbformat": 4,
 "nbformat_minor": 5
}
