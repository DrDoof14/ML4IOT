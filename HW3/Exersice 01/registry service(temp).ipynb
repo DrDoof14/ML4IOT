{
 "cells": [
  {
   "cell_type": "markdown",
   "id": "c570deab",
   "metadata": {},
   "source": [
    "We can ignore the cell above"
   ]
  },
  {
   "cell_type": "code",
   "execution_count": null,
   "id": "3f72f0a9",
   "metadata": {},
   "outputs": [],
   "source": [
    "import base64\n",
    "import cherrypy\n",
    "from os.path import isfile, join\n",
    "from os import listdir\n",
    "\n",
    "\n",
    "class AddModel:\n",
    "    exposed = True  # Needed for exposing the Web Services\n",
    "\n",
    "    def POST(self, **query):\n",
    "        if len(query) != 2:\n",
    "            raise cherrypy.HTTPError(400, 'Wrong query')\n",
    "\n",
    "#         if type(query.get('model')) != 'bytes':\n",
    "#             raise cherrypy.HTTPError(400, 'Model type is not bytes')\n",
    "\n",
    "        if not query.get('name').endswith('.tflite'):\n",
    "            raise cherrypy.HTTPError(400, 'The name extention should be tflite')\n",
    "        model = query.get('model')\n",
    "        model_name = query.get('name')\n",
    "        decoded_model = base64.b64decode(model)\n",
    "        path = './model/' + str(model_name)\n",
    "        with open(path, 'wb') as f:\n",
    "            f.write(decoded_model)\n",
    "\n",
    "\n",
    "class ListModels:\n",
    "    exposed = True  # Needed for exposing the Web Services\n",
    "\n",
    "    def GET():\n",
    "        models_path = './model'\n",
    "        onlyFiles = [f for f in listdir(models_path) if isfile(join(models_path, f))]\n",
    "        for i in onlyFiles:\n",
    "            if i.endswith('.tflite'):\n",
    "                print(i)\n",
    "\n",
    "\n",
    "class Predict:\n",
    "    exposed = True  # Needed for exposing the Web Services\n",
    "    def PUT(self,*path):\n",
    "        model_name=path[0]\n",
    "        tthres=path[1]\n",
    "        hthres=path[2]\n",
    "        models_path='./model'\n",
    "        with open(models_path+'/'+model_name, 'rb') as fp:\n",
    "            model = fp.read()#now we have the model\n",
    "            \n",
    "\n",
    "if __name__ == '__main__':\n",
    "    # conf probably needs modification\n",
    "    conf = {\n",
    "        '/': {\n",
    "            'request.dispatch': cherrypy.dispatch.MethodDispatcher(),\n",
    "            'tools.sessions.on': True,\n",
    "        }\n",
    "    }\n",
    "    cherrypy.tree.mount(AddModel(), '/add', conf)\n",
    "    cherrypy.tree.mount(ListModels, '/list', conf)\n",
    "    # cherrypy.tree.mount(Predict, '/predict', conf)\n",
    "\n",
    "    # To start cherrypy engine\n",
    "    cherrypy.engine.start()\n",
    "    cherrypy.engine.block()"
   ]
  },
  {
   "cell_type": "code",
   "execution_count": null,
   "id": "6e8456f5",
   "metadata": {},
   "outputs": [],
   "source": []
  },
  {
   "cell_type": "code",
   "execution_count": null,
   "id": "8952b54c",
   "metadata": {},
   "outputs": [],
   "source": []
  },
  {
   "cell_type": "code",
   "execution_count": null,
   "id": "07771ee3",
   "metadata": {},
   "outputs": [],
   "source": []
  }
 ],
 "metadata": {
  "kernelspec": {
   "display_name": "Python 3 (ipykernel)",
   "language": "python",
   "name": "python3"
  },
  "language_info": {
   "codemirror_mode": {
    "name": "ipython",
    "version": 3
   },
   "file_extension": ".py",
   "mimetype": "text/x-python",
   "name": "python",
   "nbconvert_exporter": "python",
   "pygments_lexer": "ipython3",
   "version": "3.9.7"
  }
 },
 "nbformat": 4,
 "nbformat_minor": 5
}
