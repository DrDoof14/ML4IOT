{
 "cells": [
  {
   "cell_type": "code",
   "execution_count": 11,
   "id": "80fa25e4",
   "metadata": {},
   "outputs": [
    {
     "name": "stdout",
     "output_type": "stream",
     "text": [
      "\n"
     ]
    }
   ],
   "source": [
    "import base64\n",
    "import json\n",
    "import requests\n",
    "# from cherrypy import request\n",
    "\n",
    "url = 'http://192.168.1.145:8080' #raspberry pi IP\n",
    "url_add = url + '/add'\n",
    "model_name = 'CNN(mad_with_tf2.3).tflite'\n",
    "\n",
    "with open(model_name, 'rb') as fp:\n",
    "    model_string = fp.read()\n",
    "    model_base64 = base64.b64encode(model_string)\n",
    "\n",
    "body_dict = {'model': model_base64.decode(), 'name': 'cnn.tflite'}\n",
    "\n",
    "\n",
    "# json_body=json.dumps(list(body_dict.values()))\n",
    "r = requests.post(url_add, json=body_dict)\n",
    "if r.status_code == 200:\n",
    "    body = r.text\n",
    "    print(body)\n",
    "else:\n",
    "    print('Error:', r.text)\n"
   ]
  },
  {
   "cell_type": "markdown",
   "id": "5b183205",
   "metadata": {},
   "source": [
    "<b>Now we have to create the make list part </b>"
   ]
  },
  {
   "cell_type": "code",
   "execution_count": 3,
   "id": "8538a825",
   "metadata": {},
   "outputs": [
    {
     "name": "stdout",
     "output_type": "stream",
     "text": [
      "\n"
     ]
    }
   ],
   "source": [
    "url = 'http://192.168.1.145:8080' #raspberry pi IP\n",
    "url_add = url + '/list'\n",
    "\n",
    "req = requests.get(url_add)\n",
    "\n",
    "if req.status_code == 200:\n",
    "    body = req.text\n",
    "    print(body)\n",
    "else:\n",
    "    print('Error:', req.text)"
   ]
  },
  {
   "cell_type": "code",
   "execution_count": null,
   "id": "37399d5f",
   "metadata": {},
   "outputs": [],
   "source": [
    "import base64\n",
    "import json\n",
    "import requests\n",
    "from cherrypy import request\n",
    "\n",
    "url = 'http://127.0.0.1:8080'\n",
    "url_add = url + '/add'\n",
    "model_name = 'CNN.tflite'\n",
    "\n",
    "with open(model_name, 'rb') as fp:\n",
    "    model_string = fp.read()\n",
    "    model_base64 = base64.b64encode(model_string)\n",
    "body_dict = {'model': model_base64.decode(), 'name': model_name}\n",
    "r = requests.post(url_add, json=body_dict)\n",
    "if r.status_code == 200:\n",
    "    body = r.text\n",
    "    print(body)\n",
    "else:\n",
    "    print('Error:', r.json())\n",
    "\n",
    "url_list = url + '/list'\n",
    "\n",
    "req = requests.get(url_list)\n",
    "\n",
    "if req.status_code == 200:\n",
    "    body = req.text\n",
    "    print(body)\n",
    "else:\n",
    "    print('Error:', req.text)\n",
    "\n",
    "tthres = 0.1\n",
    "hthres = 0.2\n",
    "url_predict = url+'/{}?model={}&tthres={}&hthres={}'.format('predict', model_name, tthres, hthres)\n",
    "req = requests.put(url_predict)\n",
    "if req.status_code == 200:\n",
    "    body = req.json()\n",
    "    print(body)\n",
    "else:\n",
    "    print('Error:', req.text)"
   ]
  }
 ],
 "metadata": {
  "kernelspec": {
   "display_name": "Python 3 (ipykernel)",
   "language": "python",
   "name": "python3"
  },
  "language_info": {
   "codemirror_mode": {
    "name": "ipython",
    "version": 3
   },
   "file_extension": ".py",
   "mimetype": "text/x-python",
   "name": "python",
   "nbconvert_exporter": "python",
   "pygments_lexer": "ipython3",
   "version": "3.9.7"
  }
 },
 "nbformat": 4,
 "nbformat_minor": 5
}
