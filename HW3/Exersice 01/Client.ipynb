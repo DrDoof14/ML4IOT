{
 "cells": [
  {
   "cell_type": "code",
   "execution_count": 22,
   "id": "80fa25e4",
   "metadata": {},
   "outputs": [
    {
     "name": "stdout",
     "output_type": "stream",
     "text": [
      "Error: <!DOCTYPE html PUBLIC\n",
      "\"-//W3C//DTD XHTML 1.0 Transitional//EN\"\n",
      "\"http://www.w3.org/TR/xhtml1/DTD/xhtml1-transitional.dtd\">\n",
      "<html>\n",
      "<head>\n",
      "    <meta http-equiv=\"Content-Type\" content=\"text/html; charset=utf-8\"></meta>\n",
      "    <title>400 Bad Request</title>\n",
      "    <style type=\"text/css\">\n",
      "    #powered_by {\n",
      "        margin-top: 20px;\n",
      "        border-top: 2px solid black;\n",
      "        font-style: italic;\n",
      "    }\n",
      "\n",
      "    #traceback {\n",
      "        color: red;\n",
      "    }\n",
      "    </style>\n",
      "</head>\n",
      "    <body>\n",
      "        <h2>400 Bad Request</h2>\n",
      "        <p>Model type is not bytes</p>\n",
      "        <pre id=\"traceback\">Traceback (most recent call last):\n",
      "  File \"C:\\Users\\aligh\\anaconda3\\envs\\tf\\lib\\site-packages\\cherrypy\\_cprequest.py\", line 638, in respond\n",
      "    self._do_respond(path_info)\n",
      "  File \"C:\\Users\\aligh\\anaconda3\\envs\\tf\\lib\\site-packages\\cherrypy\\_cprequest.py\", line 697, in _do_respond\n",
      "    response.body = self.handler()\n",
      "  File \"C:\\Users\\aligh\\anaconda3\\envs\\tf\\lib\\site-packages\\cherrypy\\lib\\encoding.py\", line 223, in __call__\n",
      "    self.body = self.oldhandler(*args, **kwargs)\n",
      "  File \"C:\\Users\\aligh\\anaconda3\\envs\\tf\\lib\\site-packages\\cherrypy\\_cpdispatch.py\", line 54, in __call__\n",
      "    return self.callable(*self.args, **self.kwargs)\n",
      "  File \"C:\\Users\\aligh\\AppData\\Local\\Temp/ipykernel_11668/1164390490.py\", line 15, in POST\n",
      "    raise cherrypy.HTTPError(400, 'Model type is not bytes')\n",
      "cherrypy._cperror.HTTPError: (400, 'Model type is not bytes')\n",
      "</pre>\n",
      "    <div id=\"powered_by\">\n",
      "      <span>\n",
      "        Powered by <a href=\"http://www.cherrypy.org\">CherryPy 18.6.1</a>\n",
      "      </span>\n",
      "    </div>\n",
      "    </body>\n",
      "</html>\n",
      "\n"
     ]
    }
   ],
   "source": [
    "import base64\n",
    "import json\n",
    "\n",
    "import requests\n",
    "\n",
    "url = 'http://127.0.0.1:8080'\n",
    "url_add = url + '/add'\n",
    "model_name = 'CNN.tflite'\n",
    "\n",
    "with open(model_name, 'rb') as fp:\n",
    "    model_string = fp.read()\n",
    "    model_base64 = base64.b64encode(model_string)\n",
    "\n",
    "body_dict = {'model': model_base64.decode(), 'name': 'cnn.tflite'}\n",
    "\n",
    "\n",
    "# json_body=json.dumps(list(body_dict.values()))\n",
    "r = requests.post(url_add, data=body_dict)\n",
    "if r.status_code == 200:\n",
    "    body = r.text\n",
    "    print(body)\n",
    "else:\n",
    "    print('Error:', r.text)\n",
    "\n"
   ]
  },
  {
   "cell_type": "code",
   "execution_count": null,
   "id": "425dd80d",
   "metadata": {},
   "outputs": [],
   "source": []
  }
 ],
 "metadata": {
  "kernelspec": {
   "display_name": "Python 3 (ipykernel)",
   "language": "python",
   "name": "python3"
  },
  "language_info": {
   "codemirror_mode": {
    "name": "ipython",
    "version": 3
   },
   "file_extension": ".py",
   "mimetype": "text/x-python",
   "name": "python",
   "nbconvert_exporter": "python",
   "pygments_lexer": "ipython3",
   "version": "3.9.7"
  }
 },
 "nbformat": 4,
 "nbformat_minor": 5
}
