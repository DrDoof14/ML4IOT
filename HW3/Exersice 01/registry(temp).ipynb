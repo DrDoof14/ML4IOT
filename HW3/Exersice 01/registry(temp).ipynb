{
 "cells": [
  {
   "cell_type": "code",
   "execution_count": null,
   "id": "b8ce6eb9",
   "metadata": {},
   "outputs": [],
   "source": [
    "import cherrypy\n",
    "from os.path import isfile, join\n",
    "from os import listdir\n",
    "\n",
    "\n",
    "class AddModel:\n",
    "    exposed = True  # Needed for exposing the Web Services\n",
    "\n",
    "#     def __init__(self, tflite_model, model_name):\n",
    "#         self.tflite_model = tflite_model\n",
    "#         self.model_name = model_name\n",
    "        # __init__ should be removed\n",
    "\n",
    "    def POST(self, *path, **query):\n",
    "        if path=='/add':\n",
    "            save_path = './model' + self.model_name + '.tflite'\n",
    "            with open(save_path, 'wb') as f:\n",
    "                f.write(self.tflite_model)\n",
    "\n",
    "\n",
    "class ListModels:\n",
    "    exposed = True  # Needed for exposing the Web Services\n",
    "\n",
    "    def GET(self):\n",
    "        models_path = './model'\n",
    "        onlyfiles = [f for f in listdir(models_path) if isfile(join(models_path, f))]\n",
    "        print(onlyfiles)\n",
    "\n",
    "\n",
    "class Predict:\n",
    "    exposed = True  # Needed for exposing the Web Services\n",
    "\n",
    "    print('Nothing')\n",
    "\n",
    "\n",
    "if __name__ == '__main__':\n",
    "    # conf probably needs modification\n",
    "    conf = {\n",
    "        '/': {\n",
    "            'request.dispatch': cherrypy.dispatch.MethodDispatcher(),\n",
    "            'tools.sessions.on': True,\n",
    "        }\n",
    "    }\n",
    "    cherrypy.tree.mount(AddModel, '/add')\n",
    "    cherrypy.tree.mount(ListModels, '/list')\n",
    "    cherrypy.tree.mount(Predict, '/predict')\n",
    "\n",
    "    # To start cherrypy engine\n",
    "    cherrypy.engine.start()\n",
    "    cherrypy.engine.block()\n"
   ]
  },
  {
   "cell_type": "markdown",
   "id": "ecda4bf4",
   "metadata": {},
   "source": [
    "we start writing the <b>client</b> side </br>\n",
    "encoding to base64\n"
   ]
  },
  {
   "cell_type": "code",
   "execution_count": null,
   "id": "e5479838",
   "metadata": {},
   "outputs": [],
   "source": [
    "import base64\n",
    "\n",
    "url = 'http://0.0.0.0:8080'\n",
    "url_add = url + '/add'\n",
    "model_name = '../Prerequisite/kws_dscnn_True.tflite'\n",
    "\n",
    "with open(model_name, 'rb') as fp:\n",
    "    model_string = fp.read()\n",
    "    model_base64 = base64.b64encode(model_string)\n",
    "\n",
    "body_dict = {'model': model_base64, 'name': 'cnn.tflite'}\n"
   ]
  },
  {
   "cell_type": "code",
   "execution_count": null,
   "id": "3f72f0a9",
   "metadata": {},
   "outputs": [],
   "source": []
  }
 ],
 "metadata": {
  "kernelspec": {
   "display_name": "Python 3 (ipykernel)",
   "language": "python",
   "name": "python3"
  },
  "language_info": {
   "codemirror_mode": {
    "name": "ipython",
    "version": 3
   },
   "file_extension": ".py",
   "mimetype": "text/x-python",
   "name": "python",
   "nbconvert_exporter": "python",
   "pygments_lexer": "ipython3",
   "version": "3.9.7"
  }
 },
 "nbformat": 4,
 "nbformat_minor": 5
}
