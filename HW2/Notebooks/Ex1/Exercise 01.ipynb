{
 "cells": [
  {
   "cell_type": "markdown",
   "id": "5b90eb6a",
   "metadata": {},
   "source": [
    "# Exercise 1"
   ]
  },
  {
   "cell_type": "code",
   "execution_count": null,
   "id": "f28f5321",
   "metadata": {},
   "outputs": [],
   "source": [
    "import tensorflow as tf"
   ]
  },
  {
   "cell_type": "code",
   "execution_count": 1,
   "id": "0250441d",
   "metadata": {},
   "outputs": [
    {
     "name": "stdout",
     "output_type": "stream",
     "text": [
      "2.7.0\n"
     ]
    }
   ],
   "source": [
    "import tensorflow as tf\n",
    "print(tf.__version__)"
   ]
  },
  {
   "cell_type": "code",
   "execution_count": 2,
   "id": "c8a95bb2",
   "metadata": {},
   "outputs": [],
   "source": [
    "from tensorflow import keras\n",
    "from tensorflow.keras import layers"
   ]
  },
  {
   "cell_type": "code",
   "execution_count": 3,
   "id": "df6f80b3",
   "metadata": {},
   "outputs": [
    {
     "name": "stdout",
     "output_type": "stream",
     "text": [
      "2.7.0\n"
     ]
    }
   ],
   "source": [
    "print(keras.__version__)"
   ]
  },
  {
   "cell_type": "markdown",
   "id": "02c56d2d",
   "metadata": {},
   "source": [
    "<b>The cell below doesn't work but needs to stay here as a reference</b>"
   ]
  },
  {
   "cell_type": "code",
   "execution_count": null,
   "id": "6d70a82d",
   "metadata": {},
   "outputs": [],
   "source": [
    "import numpy as np\n",
    "import os\n",
    "import pandas as pd\n",
    "import tensorflow as tf\n",
    "\n",
    "# parser = argparse.ArgumentParser()\n",
    "# parser.add_argument('--model', type=str, required=True, help='model name')\n",
    "# parser.add_argument('--labels', type=int, required=True, help='model output')\n",
    "# args = parser.parse_args()\n",
    "\n",
    "\n",
    "seed = 42\n",
    "tf.random.set_seed(seed)\n",
    "np.random.seed(seed)\n",
    "\n",
    "zip_path = tf.keras.utils.get_file(\n",
    "    origin='https://storage.googleapis.com/tensorflow/tf-keras-datasets/jena_climate_2009_2016.csv.zip',\n",
    "    fname='jena_climate_2009_2016.csv.zip',\n",
    "    extract=True,\n",
    "    cache_dir='.', cache_subdir='data')\n",
    "csv_path, _ = os.path.splitext(zip_path)\n",
    "df = pd.read_csv(csv_path)\n",
    "\n",
    "column_indices = [2, 5]\n",
    "columns = df.columns[column_indices]\n",
    "data = df[columns].values.astype(np.float32)\n",
    "\n",
    "n = len(data)\n",
    "train_data = data[0:int(n * 0.7)]\n",
    "val_data = data[int(n * 0.7):int(n * 0.9)]\n",
    "test_data = data[int(n * 0.9):]\n",
    "\n",
    "mean = train_data.mean(axis=0)\n",
    "std = train_data.std(axis=0)\n",
    "\n",
    "input_width = 6\n",
    "LABEL_OPTIONS = 2  # args.labels\n",
    "\n",
    "\n",
    "class WindowGenerator:\n",
    "    def __init__(self, input_width, label_options, mean, std):\n",
    "        self.input_width = input_width\n",
    "        self.label_options = label_options\n",
    "        self.mean = tf.reshape(tf.convert_to_tensor(mean), [1, 1, 2])\n",
    "        self.std = tf.reshape(tf.convert_to_tensor(std), [1, 1, 2])\n",
    "\n",
    "    def split_window(self, features): #used to convert the the list of args into a set of features and labels \n",
    "        inputs = features[:, :-1, :]\n",
    "\n",
    "        if self.label_options < 2:\n",
    "            labels = features[:, -1, self.label_options]\n",
    "            labels = tf.expand_dims(labels, -1)\n",
    "            num_labels = 1\n",
    "        else:\n",
    "            labels = features[:, -1, :]\n",
    "            num_labels = 2\n",
    "        print(labels)\n",
    "        \n",
    "        inputs.set_shape([None, self.input_width, 2])\n",
    "        labels.set_shape([None, num_labels])\n",
    "        print(labels)\n",
    "        return inputs, labels\n",
    "\n",
    "    def normalize(self, features):\n",
    "        features = (features - self.mean) / (self.std + 1.e-6)\n",
    "\n",
    "        return features\n",
    "\n",
    "    def preprocess(self, features):\n",
    "        inputs, labels = self.split_window(features)\n",
    "        inputs = self.normalize(inputs)\n",
    "\n",
    "        return inputs, labels\n",
    "\n",
    "    def make_dataset(self, data, train):\n",
    "        ds = tf.keras.preprocessing.timeseries_dataset_from_array(\n",
    "            data=data,\n",
    "            targets=None,\n",
    "            sequence_length=input_width + 1,\n",
    "            sequence_stride=1,\n",
    "            batch_size=32)\n",
    "        ds = ds.map(self.preprocess)\n",
    "        ds = ds.cache()\n",
    "        if train is True:\n",
    "            ds = ds.shuffle(100, reshuffle_each_iteration=True)\n",
    "\n",
    "        return ds\n",
    "\n",
    "\n",
    "generator = WindowGenerator(input_width, LABEL_OPTIONS, mean, std)\n",
    "train_ds = generator.make_dataset(train_data, True)\n",
    "val_ds = generator.make_dataset(val_data, False)\n",
    "test_ds = generator.make_dataset(test_data, False)\n",
    "\n",
    "class MultiOutputMAE(tf.keras.metrics.Metric):\n",
    "    def __init__(self, name='mean_absolute_error', **kwargs):\n",
    "        super().__init__(name=name, **kwargs)\n",
    "        self.total = self.add_weight('total', initializer='zeros', shape=(2,))\n",
    "        self.count = self.add_weight('count', initializer='zeros')\n",
    "\n",
    "    def update_state(self, y_true, y_pred, sample_weight=None):\n",
    "        error = tf.abs(y_pred - y_true)\n",
    "        error = tf.reduce_mean(error, axis=0)\n",
    "        self.total.assign_add(error)\n",
    "        self.count.assign_add(1.)\n",
    "\n",
    "        return\n",
    "\n",
    "    def result(self):\n",
    "        result = tf.math.divide_no_nan(self.total, self.count)\n",
    "\n",
    "        return result\n",
    "\n",
    "\n",
    "\n",
    "\n",
    "#now we create our models\n",
    "# mlp=tf.keras.Sequential([\n",
    "#     layers.Flatten(), \n",
    "#     layers.Dense(units=128,activation='relu'),\n",
    "#     layers.Dense(units=128,activation='relu'),\n",
    "#     layers.Dense(units=2)])\n",
    "\n",
    "\n",
    "\n",
    "# cnn=tf.keras.Sequential([\n",
    "#     layers.Conv1D(filters=64,kernel_size=(3,),activation='relu'),\n",
    "#     layers.Flatten(),\n",
    "#     layers.Dense(units=64,activation='relu'),\n",
    "#     layers.Dense(units=2)\n",
    "# ])\n",
    "\n",
    "\n",
    "# lstm=tf.keras.Sequential([\n",
    "#     layers.LSTM(64),\n",
    "#     layers.Flatten(),\n",
    "#     layers.Dense(units=2)\n",
    "# ])\n",
    "\n",
    "model = keras.Sequential()\n",
    "model.add(keras.Input(shape=(6,2)))\n",
    "model.add(layers.Flatten())\n",
    "model.add(layers.Dense(units=128,activation='relu'))\n",
    "model.add(layers.Dense(units=128,activation='relu'))\n",
    "model.add(layers.Dense(units=12))\n",
    "\n",
    "\n",
    "loss=tf.losses.MeanSquaredError()\n",
    "optimizer=tf.optimizers.Adam()\n",
    "\n",
    "#now we can compile and then fit our model\n",
    "metrics=[MultiOutputMAE()]\n",
    "model.compile(loss=loss,optimizer=optimizer,metrics=metrics)\n",
    "\n",
    "model.fit(train_ds,epochs=20,validation_data=val_ds,verbose=2)\n",
    "\n",
    "saved_model_dir='./result'\n",
    "\n",
    "run_model = tf.function(lambda x: model(x))\n",
    "concrete_func = run_model.get_concrete_function(tf.TensorSpec([1, 6, 2],\n",
    "tf.float32))\n",
    "model.save(saved_model_dir, signatures=concrete_func)\n",
    "print(\"Test loss:\", test_scores[0])\n",
    "print(\"Test accuracy:\", test_scores[1])"
   ]
  },
  {
   "cell_type": "markdown",
   "id": "6f7fd803",
   "metadata": {},
   "source": [
    "<b>It works from here</b> <br>\n",
    "<b>Adding the libraries and importing the dataset </b> <br>\n"
   ]
  },
  {
   "cell_type": "code",
   "execution_count": 1,
   "id": "7cdf81cc",
   "metadata": {},
   "outputs": [],
   "source": [
    "import tensorflow as tf\n",
    "from tensorflow import keras\n",
    "from tensorflow.keras import layers\n",
    "import numpy as np\n",
    "import os\n",
    "import pandas as pd\n"
   ]
  },
  {
   "cell_type": "code",
   "execution_count": 2,
   "id": "359e6069",
   "metadata": {},
   "outputs": [],
   "source": [
    "#importing the dataset \n",
    "seed = 42\n",
    "tf.random.set_seed(seed)\n",
    "np.random.seed(seed)\n",
    "\n",
    "zip_path = tf.keras.utils.get_file(\n",
    "    origin='https://storage.googleapis.com/tensorflow/tf-keras-datasets/jena_climate_2009_2016.csv.zip',\n",
    "    fname='jena_climate_2009_2016.csv.zip',\n",
    "    extract=True,\n",
    "    cache_dir='.', cache_subdir='data')\n",
    "csv_path, _ = os.path.splitext(zip_path)\n",
    "df = pd.read_csv(csv_path)\n",
    "\n",
    "column_indices = [2, 5]\n",
    "columns = df.columns[column_indices]\n",
    "data = df[columns].values.astype(np.float32)\n",
    "\n",
    "n = len(data)\n",
    "train_data = data[0:int(n * 0.7)]\n",
    "val_data = data[int(n * 0.7):int(n * 0.9)]\n",
    "test_data = data[int(n * 0.9):]\n",
    "\n",
    "#to normalized the data\n",
    "mean = train_data.mean(axis=0)\n",
    "std = train_data.std(axis=0)\n",
    "\n",
    "\n",
    "#input width = 6\n",
    "#number of labels=2"
   ]
  },
  {
   "cell_type": "markdown",
   "id": "a801fdba",
   "metadata": {},
   "source": [
    "# First approach\n",
    "we use libraries in this approach <br>\n",
    "It needs some working (doesn't acutally work yet)"
   ]
  },
  {
   "cell_type": "code",
   "execution_count": null,
   "id": "7b07747a",
   "metadata": {},
   "outputs": [],
   "source": [
    "#train data is an array, so we can easily use it\n",
    "new_train_data=[]\n",
    "for item in train_data:\n",
    "    for i in item:\n",
    "        new_train_data.append(i)\n",
    "        \n",
    "new_train_data = np.array(new_train_data)\n",
    "        \n",
    "\n",
    "new_train_data=new_train_data.reshape((len(new_train_data),1))"
   ]
  },
  {
   "cell_type": "code",
   "execution_count": null,
   "id": "7f4972f1",
   "metadata": {},
   "outputs": [],
   "source": [
    "train_data"
   ]
  },
  {
   "cell_type": "code",
   "execution_count": null,
   "id": "b01a3be7",
   "metadata": {},
   "outputs": [],
   "source": [
    "print(new_train_data)\n",
    "new_train_data.shape"
   ]
  },
  {
   "cell_type": "code",
   "execution_count": null,
   "id": "f0904585",
   "metadata": {},
   "outputs": [],
   "source": [
    "#creating the dataset with libraries\n",
    "from keras.preprocessing.sequence import TimeseriesGenerator\n",
    "steps=len(train_data)//32\n",
    "\n",
    "n_features = train_data.shape[1]\n",
    "n_input = 6\n",
    "generator = TimeseriesGenerator(new_train_data,new_train_data,length=12, batch_size=32,stride=2) \n",
    "#stride is equal to 2 because we have a list with length of 12\n",
    "\n",
    "\n",
    "# define model\n",
    "\n",
    "model = keras.Sequential()\n",
    "model.add(keras.Input(shape=(1,12)))\n",
    "model.add(layers.Flatten())\n",
    "model.add(layers.Dense(units=128,activation='relu'))\n",
    "model.add(layers.Dense(units=128,activation='relu'))\n",
    "model.add(layers.Dense(units=12))\n",
    "\n",
    "#the problem was the fact that we used the value 12 for units in dense layers\n",
    "\n",
    "\n",
    "model.summary()\n",
    "\n",
    "\n"
   ]
  },
  {
   "cell_type": "code",
   "execution_count": null,
   "id": "ed93d6ae",
   "metadata": {},
   "outputs": [],
   "source": [
    "\n",
    "# metrics=[MultiOutputMAE()]\n",
    "\n",
    "#now we can compile and then fit our model\n",
    "loss=tf.losses.MeanSquaredError()\n",
    "optimizer=tf.optimizers.Adam()\n",
    "\n",
    "model.compile(loss='mae',optimizer='adam')\n",
    "\n",
    "model.fit(generator,steps_per_epoch=steps,epochs=20,verbose=2)\n",
    "\n",
    "\n",
    "yhat = model.predict(generator, verbose=2)\n",
    "print(yhat)\n",
    "\n",
    "\n",
    "# model = Sequential()\n",
    "# model.add(LSTM(100, activation='relu', input_shape=(n_input, n_features)))\n",
    "# model.add(Dense(2))\n",
    "# model.compile(optimizer='adam', loss='mse')\n",
    "# fit model\n",
    "# model.fit_generator(generator, steps_per_epoch=1, epochs=500, verbose=0)\n",
    "#  make a one step prediction out of sample\n",
    "# x_input = np.array([[-8, 93], [-7, 89]]).reshape((1, n_input, n_features))\n",
    "# yhat = model.predict(x_input, verbose=0)\n",
    "# print(yhat)"
   ]
  },
  {
   "cell_type": "code",
   "execution_count": null,
   "id": "9ebd852e",
   "metadata": {},
   "outputs": [],
   "source": []
  },
  {
   "cell_type": "code",
   "execution_count": null,
   "id": "b5353846",
   "metadata": {},
   "outputs": [],
   "source": [
    "batch_0 = generator[0]\n",
    "x, y = batch_0\n",
    "print(x[0])\n",
    "print(' ---------------')\n",
    "print(y[0])"
   ]
  },
  {
   "cell_type": "code",
   "execution_count": null,
   "id": "5fda4071",
   "metadata": {},
   "outputs": [],
   "source": [
    "batch_0 = generator[0]\n",
    "x, y = batch_0\n",
    "print(x[1])\n",
    "print(' ---------------')\n",
    "print(y[0])"
   ]
  },
  {
   "cell_type": "markdown",
   "id": "78a30527",
   "metadata": {},
   "source": [
    "# Second approach\n",
    " with for loop"
   ]
  },
  {
   "cell_type": "code",
   "execution_count": 3,
   "id": "055705dd",
   "metadata": {},
   "outputs": [],
   "source": [
    "def window_gen(data,input_length,output_length,vectorize): #output_length is actually output step\n",
    "    x=[]\n",
    "    y=[]\n",
    "    for index in range(0,len(data)-input_length-output_length):\n",
    "        x.append(data[index:index+input_length])\n",
    "        output_loc=data[index+input_length:index+input_length+output_length]\n",
    "        if vectorize==True:\n",
    "            y.append(output_loc.reshape(-1))\n",
    "        else:\n",
    "            y.append(output_loc)\n",
    "    x=np.array(x) #to make it possible to run\n",
    "    y=np.array(y)\n",
    "    return x,y"
   ]
  },
  {
   "cell_type": "code",
   "execution_count": 4,
   "id": "dda2eb5b",
   "metadata": {},
   "outputs": [],
   "source": [
    "#normalization\n",
    "def mean_std(x,y):\n",
    "    x_mean=np.mean(x,axis=0)\n",
    "    y_mean=np.mean(y,axis=0)\n",
    "    x_std=np.std(x,axis=0)\n",
    "    y_std=np.std(y,axis=0)\n",
    "    return x_mean,y_mean,x_std,y_std\n",
    "\n",
    "def normalization(x,y,x_mean,y_mean,x_std,y_std):\n",
    "    x_norm=(x - x_mean) / (x_std+ 1.e-6)\n",
    "    y_norm=(y - y_mean) / (y_std + 1.e-6)\n",
    "    \n",
    "#     f = lambda i: (i - x_mean) / (x_std + 1.e-6)\n",
    "#     g= lambda j:(j - y_mean) / (y_std + 1.e-6)\n",
    "\n",
    "#     x_new=[f(i) for i in x]\n",
    "#     y_new=[f(j) for j in y]\n",
    "    return x_norm,y_norm\n",
    "\n",
    "# mean = train_data.mean(axis=0)\n",
    "# std = train_data.std(axis=0)   "
   ]
  },
  {
   "cell_type": "markdown",
   "id": "67df165f",
   "metadata": {},
   "source": [
    "<b>Training data</b>"
   ]
  },
  {
   "cell_type": "code",
   "execution_count": null,
   "id": "3c25687a",
   "metadata": {},
   "outputs": [],
   "source": [
    "x_train,y_train=window_gen(train_data,6,3,False)"
   ]
  },
  {
   "cell_type": "code",
   "execution_count": null,
   "id": "71b5e22f",
   "metadata": {},
   "outputs": [],
   "source": [
    "x_train,y_train=window_gen(train_data,6,3,True)"
   ]
  },
  {
   "cell_type": "code",
   "execution_count": null,
   "id": "f0615ee3",
   "metadata": {},
   "outputs": [],
   "source": [
    "x_train,y_train=window_gen(train_data,6,9,False)"
   ]
  },
  {
   "cell_type": "code",
   "execution_count": null,
   "id": "65995d3f",
   "metadata": {},
   "outputs": [],
   "source": [
    "x_train,y_train=window_gen(train_data,6,9,True)"
   ]
  },
  {
   "cell_type": "markdown",
   "id": "9475c6f7",
   "metadata": {},
   "source": [
    "<b>Validation Data</b>"
   ]
  },
  {
   "cell_type": "code",
   "execution_count": null,
   "id": "b1669457",
   "metadata": {},
   "outputs": [],
   "source": [
    "x_val,y_val=window_gen(train_data,6,3,False)"
   ]
  },
  {
   "cell_type": "code",
   "execution_count": null,
   "id": "d2cb30e0",
   "metadata": {},
   "outputs": [],
   "source": [
    "x_val,y_val=window_gen(train_data,6,3,True)"
   ]
  },
  {
   "cell_type": "code",
   "execution_count": null,
   "id": "cf04fd58",
   "metadata": {},
   "outputs": [],
   "source": [
    "x_val,y_val=window_gen(train_data,6,9,False)"
   ]
  },
  {
   "cell_type": "code",
   "execution_count": null,
   "id": "627c7d2a",
   "metadata": {},
   "outputs": [],
   "source": [
    "x_val,y_val=window_gen(train_data,6,9,True)"
   ]
  },
  {
   "cell_type": "markdown",
   "id": "ad9cf32f",
   "metadata": {},
   "source": [
    "<b>Testing Data </b>"
   ]
  },
  {
   "cell_type": "code",
   "execution_count": null,
   "id": "11c34155",
   "metadata": {},
   "outputs": [],
   "source": [
    "x_test,y_test=window_gen(train_data,6,3,False)"
   ]
  },
  {
   "cell_type": "code",
   "execution_count": null,
   "id": "cef014de",
   "metadata": {},
   "outputs": [],
   "source": [
    "x_test,y_test=window_gen(train_data,6,3,True)"
   ]
  },
  {
   "cell_type": "code",
   "execution_count": null,
   "id": "1f46c38f",
   "metadata": {},
   "outputs": [],
   "source": [
    "x_test,y_test=window_gen(train_data,6,9,False)"
   ]
  },
  {
   "cell_type": "code",
   "execution_count": null,
   "id": "4dd0a24f",
   "metadata": {},
   "outputs": [],
   "source": [
    "x_test,y_test=window_gen(train_data,6,9,True)"
   ]
  },
  {
   "cell_type": "markdown",
   "id": "e45df3d9",
   "metadata": {},
   "source": [
    "<b>MLP</b>\n"
   ]
  },
  {
   "cell_type": "code",
   "execution_count": 59,
   "id": "ca7c4581",
   "metadata": {},
   "outputs": [
    {
     "name": "stdout",
     "output_type": "stream",
     "text": [
      "Model: \"sequential_2\"\n",
      "_________________________________________________________________\n",
      " Layer (type)                Output Shape              Param #   \n",
      "=================================================================\n",
      " flatten_2 (Flatten)         (None, 12)                0         \n",
      "                                                                 \n",
      " dense_6 (Dense)             (None, 32)                416       \n",
      "                                                                 \n",
      " dense_7 (Dense)             (None, 32)                1056      \n",
      "                                                                 \n",
      " dense_8 (Dense)             (None, 18)                594       \n",
      "                                                                 \n",
      "=================================================================\n",
      "Total params: 2,066\n",
      "Trainable params: 2,066\n",
      "Non-trainable params: 0\n",
      "_________________________________________________________________\n",
      "Epoch 1/20\n",
      "9200/9200 [==============================] - 6s 651us/step - loss: 0.1054\n",
      "Epoch 2/20\n",
      "9200/9200 [==============================] - 6s 607us/step - loss: 0.0943\n",
      "Epoch 3/20\n",
      "9200/9200 [==============================] - 6s 653us/step - loss: 0.0932\n",
      "Epoch 4/20\n",
      "9200/9200 [==============================] - 6s 621us/step - loss: 0.0925\n",
      "Epoch 5/20\n",
      "9200/9200 [==============================] - 6s 634us/step - loss: 0.0920\n",
      "Epoch 6/20\n",
      "9200/9200 [==============================] - 6s 656us/step - loss: 0.0918\n",
      "Epoch 7/20\n",
      "9200/9200 [==============================] - 6s 619us/step - loss: 0.0915\n",
      "Epoch 8/20\n",
      "9200/9200 [==============================] - 5s 588us/step - loss: 0.0913\n",
      "Epoch 9/20\n",
      "9200/9200 [==============================] - 5s 587us/step - loss: 0.0913\n",
      "Epoch 10/20\n",
      "9200/9200 [==============================] - 6s 630us/step - loss: 0.0911\n",
      "Epoch 11/20\n",
      "9200/9200 [==============================] - 7s 721us/step - loss: 0.0910\n",
      "Epoch 12/20\n",
      "9200/9200 [==============================] - 6s 663us/step - loss: 0.0910\n",
      "Epoch 13/20\n",
      "9200/9200 [==============================] - 6s 678us/step - loss: 0.0908\n",
      "Epoch 14/20\n",
      "9200/9200 [==============================] - 6s 648us/step - loss: 0.0907\n",
      "Epoch 15/20\n",
      "9200/9200 [==============================] - 6s 697us/step - loss: 0.0907\n",
      "Epoch 16/20\n",
      "9200/9200 [==============================] - 6s 700us/step - loss: 0.0906\n",
      "Epoch 17/20\n",
      "9200/9200 [==============================] - 6s 703us/step - loss: 0.0905\n",
      "Epoch 18/20\n",
      "9200/9200 [==============================] - 6s 665us/step - loss: 0.0905\n",
      "Epoch 19/20\n",
      "9200/9200 [==============================] - 6s 625us/step - loss: 0.0904\n",
      "Epoch 20/20\n",
      "9200/9200 [==============================] - 6s 654us/step - loss: 0.0903\n"
     ]
    },
    {
     "data": {
      "text/plain": [
       "<keras.callbacks.History at 0x2051f7d9250>"
      ]
     },
     "execution_count": 59,
     "metadata": {},
     "output_type": "execute_result"
    }
   ],
   "source": [
    "\n",
    "#now we can train our model\n",
    "#we have to train the model for each of our output_steps\n",
    "output_steps=9\n",
    "input_steps=6\n",
    "\n",
    "x_train,y_train=window_gen(train_data,input_steps,output_steps,True)\n",
    "\n",
    "x_mean_mlp,y_mean_mlp,x_std_mlp,y_std_mlp=mean_std(x_train,y_train)\n",
    "\n",
    "x_train_norm,y_train_norm=normalization(x_train,y_train,x_mean_mlp,y_mean_mlp,x_std_mlp,y_std_mlp)\n",
    "\n",
    "\n",
    "alpha=0.25\n",
    "mlp = keras.Sequential()\n",
    "mlp.add(keras.Input(shape=(input_steps,2)))\n",
    "mlp.add(layers.Flatten())\n",
    "mlp.add(layers.Dense(units=128*alpha,activation='relu'))\n",
    "mlp.add(layers.Dense(units=128*alpha,activation='relu'))\n",
    "mlp.add(layers.Dense(units=output_steps*2))\n",
    "\n",
    "mlp.summary()\n",
    "\n",
    "loss=tf.losses.MeanSquaredError()\n",
    "optimizer=tf.optimizers.Adam()\n",
    "\n",
    "mlp.compile(loss='mae',optimizer='adam')\n",
    "\n",
    "mlp.fit(x_train_norm,y_train_norm,batch_size=32,epochs=20)\n"
   ]
  },
  {
   "cell_type": "code",
   "execution_count": 60,
   "id": "3090803f",
   "metadata": {},
   "outputs": [
    {
     "name": "stdout",
     "output_type": "stream",
     "text": [
      "9200/9200 - 4s - 4s/epoch - 389us/step\n",
      "[[-4.5494423  95.199745    1.416396   ... 19.014387   27.431658\n",
      "   9.519208  ]\n",
      " [-4.035059   95.859116    2.2126925  ... 15.87109    28.843695\n",
      "   6.15148   ]\n",
      " [-4.099407   95.9666      2.324702   ... 13.573648   29.550154\n",
      "   3.6145768 ]\n",
      " ...\n",
      " [20.406921   94.59344    27.054295   ... 10.999166   55.48583\n",
      "   0.34375823]\n",
      " [20.809341   93.62909    27.684422   ...  7.2484407  56.977467\n",
      "  -3.7626357 ]\n",
      " [20.63607    93.36774    27.43395    ...  7.853176   56.695553\n",
      "  -3.1534476 ]]\n"
     ]
    }
   ],
   "source": [
    "yhat = mlp.predict(x_train, verbose=2)\n",
    "print(yhat)"
   ]
  },
  {
   "cell_type": "markdown",
   "id": "3dd7f73d",
   "metadata": {},
   "source": [
    "<b>Now we are performing validation and testing for the output steps of 3<b>"
   ]
  },
  {
   "cell_type": "code",
   "execution_count": 39,
   "id": "1c821c57",
   "metadata": {},
   "outputs": [],
   "source": [
    "output_steps=3\n",
    "input_steps=6\n",
    "#creating the val and test dataset\n",
    "x_val3,y_val3=window_gen(val_data,input_steps,output_steps,True)\n",
    "x_test3,y_test3=window_gen(test_data,input_steps,output_steps,True)\n",
    "\n",
    "x_val_norm3,y_val_norm3=normalization(x_val3,y_val3,x_mean_mlp,y_mean_mlp,x_std_mlp,y_std_mlp)\n",
    "x_test_norm3,y_test_norm3=normalization(x_test3,y_test3,x_mean_mlp,y_mean_mlp,x_std_mlp,y_std_mlp)"
   ]
  },
  {
   "cell_type": "code",
   "execution_count": 40,
   "id": "668f2bdd",
   "metadata": {},
   "outputs": [
    {
     "name": "stdout",
     "output_type": "stream",
     "text": [
      "2629/2629 - 1s - 981ms/epoch - 373us/step\n"
     ]
    }
   ],
   "source": [
    "y_val_predict_mlp3=mlp.predict(x_val_norm3,verbose=2)"
   ]
  },
  {
   "cell_type": "code",
   "execution_count": 41,
   "id": "7ead9f01",
   "metadata": {},
   "outputs": [
    {
     "name": "stdout",
     "output_type": "stream",
     "text": [
      "1314/1314 - 1s - 606ms/epoch - 461us/step\n"
     ]
    }
   ],
   "source": [
    "y_test_predict_mlp3=mlp.predict(x_test_norm3,verbose=2)"
   ]
  },
  {
   "cell_type": "code",
   "execution_count": 42,
   "id": "850b36ea",
   "metadata": {},
   "outputs": [
    {
     "name": "stdout",
     "output_type": "stream",
     "text": [
      "0.04632742\n"
     ]
    }
   ],
   "source": [
    "val_mae_mlp3=tf.keras.metrics.mean_absolute_error(y_val_norm3,y_val_predict_mlp3)\n",
    "print(np.mean(val_mae_mlp3))"
   ]
  },
  {
   "cell_type": "code",
   "execution_count": 43,
   "id": "1673ce7d",
   "metadata": {},
   "outputs": [
    {
     "name": "stdout",
     "output_type": "stream",
     "text": [
      "0.050006174\n"
     ]
    }
   ],
   "source": [
    "test_mae_mlp3=tf.keras.metrics.mean_absolute_error(y_test_norm3,y_test_predict_mlp3)\n",
    "print(np.mean(test_mae_mlp3))"
   ]
  },
  {
   "cell_type": "code",
   "execution_count": 44,
   "id": "874fdcc5",
   "metadata": {},
   "outputs": [],
   "source": [
    "#seperating temperature from humidity in our data\n",
    "y_val_temperature3=y_val_norm3[:, 0::2]\n",
    "y_val_humidity3=y_val_norm3[:, 1::2]\n",
    "y_val_temperature_predict3=y_val_predict_mlp3[:, 0::2]\n",
    "y_val_humidity_predict3=y_val_predict_mlp3[:, 1::2]\n",
    "\n",
    "\n",
    "y_test_temperature3=y_test_norm3[:, 0::2]\n",
    "y_test_humidity3=y_test_norm3[:, 1::2]\n",
    "y_test_temperature_predict_mlp3=y_test_predict_mlp3[:, 0::2]\n",
    "y_test_humidity_predict_mlp3=y_test_predict_mlp3[:, 1::2]"
   ]
  },
  {
   "cell_type": "code",
   "execution_count": 45,
   "id": "2b2b64f1",
   "metadata": {},
   "outputs": [
    {
     "name": "stdout",
     "output_type": "stream",
     "text": [
      "0.02657633\n"
     ]
    }
   ],
   "source": [
    "val_temperature_mae_mlp3=tf.keras.metrics.mean_absolute_error(y_val_temperature3,y_val_temperature_predict3)\n",
    "print(np.mean(val_temperature_mae_mlp3))"
   ]
  },
  {
   "cell_type": "code",
   "execution_count": 46,
   "id": "9f13a501",
   "metadata": {},
   "outputs": [
    {
     "name": "stdout",
     "output_type": "stream",
     "text": [
      "0.0660785\n"
     ]
    }
   ],
   "source": [
    "val_humidity_mae_mlp3=tf.keras.metrics.mean_absolute_error(y_val_humidity3,y_val_humidity_predict3)\n",
    "print(np.mean(val_humidity_mae_mlp3))"
   ]
  },
  {
   "cell_type": "code",
   "execution_count": 47,
   "id": "30c85517",
   "metadata": {},
   "outputs": [
    {
     "name": "stdout",
     "output_type": "stream",
     "text": [
      "0.028811572\n"
     ]
    }
   ],
   "source": [
    "test_temperature_mae_mlp3=tf.keras.metrics.mean_absolute_error(y_test_temperature3,y_test_temperature_predict_mlp3)\n",
    "print(np.mean(test_temperature_mae_mlp3))"
   ]
  },
  {
   "cell_type": "code",
   "execution_count": 48,
   "id": "1f5e472a",
   "metadata": {},
   "outputs": [
    {
     "name": "stdout",
     "output_type": "stream",
     "text": [
      "0.07120079\n"
     ]
    }
   ],
   "source": [
    "test_humidity_mae_mlp3=tf.keras.metrics.mean_absolute_error(y_test_humidity3,y_test_humidity_predict_mlp3)\n",
    "print(np.mean(test_humidity_mae_mlp3))"
   ]
  },
  {
   "cell_type": "markdown",
   "id": "86275124",
   "metadata": {},
   "source": [
    "<b>Now we are performing validation and testing for the output steps of 9<b>"
   ]
  },
  {
   "cell_type": "code",
   "execution_count": 68,
   "id": "ec6b08e3",
   "metadata": {},
   "outputs": [],
   "source": [
    "output_steps=9\n",
    "input_steps=6\n",
    "#creating the val and test dataset\n",
    "x_val9,y_val9=window_gen(val_data,input_steps,output_steps,True)\n",
    "x_test9,y_test9=window_gen(test_data,input_steps,output_steps,True)\n",
    "\n",
    "x_val_norm9,y_val_norm9=normalization(x_val9,y_val9,x_mean_mlp,y_mean_mlp,x_std_mlp,y_std_mlp)\n",
    "x_test_norm9,y_test_norm9=normalization(x_test9,y_test9,x_mean_mlp,y_mean_mlp,x_std_mlp,y_std_mlp)"
   ]
  },
  {
   "cell_type": "code",
   "execution_count": 69,
   "id": "220c8b37",
   "metadata": {},
   "outputs": [
    {
     "name": "stdout",
     "output_type": "stream",
     "text": [
      "2628/2628 - 1s - 944ms/epoch - 359us/step\n",
      "0.089226566\n"
     ]
    }
   ],
   "source": [
    "y_val_predict_mlp9=mlp.predict(x_val_norm9,verbose=2)\n",
    "val_mae9=tf.keras.metrics.mean_absolute_error(y_val_norm9,y_val_predict9)\n",
    "print(np.mean(val_mae9))"
   ]
  },
  {
   "cell_type": "code",
   "execution_count": 72,
   "id": "156bd13f",
   "metadata": {},
   "outputs": [
    {
     "name": "stdout",
     "output_type": "stream",
     "text": [
      "1314/1314 - 0s - 491ms/epoch - 374us/step\n",
      "0.09315769\n"
     ]
    }
   ],
   "source": [
    "y_test_predict_mlp9=mlp.predict(x_test_norm9,verbose=2)\n",
    "test_mae_mlp9=tf.keras.metrics.mean_absolute_error(y_test_norm9,y_test_predict_mlp9)\n",
    "print(np.mean(test_mae_mlp9))"
   ]
  },
  {
   "cell_type": "code",
   "execution_count": 73,
   "id": "de76d136",
   "metadata": {},
   "outputs": [],
   "source": [
    "#seperating temperature from humidity in our data\n",
    "\n",
    "y_val_temperature9=y_val_norm9[:, 0::2]\n",
    "y_val_humidity9=y_val_norm9[:, 1::2]\n",
    "y_val_temperature_predict9=y_val_predict_mlp9[:, 0::2]\n",
    "y_val_humidity_predict9=y_val_predict_mlp9[:, 1::2]\n",
    "\n",
    "\n",
    "y_test_temperature9=y_test_norm9[:, 0::2]\n",
    "y_test_humidity9=y_test_norm9[:, 1::2]\n",
    "y_test_temperature_predict_mlp9=y_test_predict_mlp9[:, 0::2]\n",
    "y_test_humidity_predict_mlp9=y_test_predict_mlp9[:, 1::2]"
   ]
  },
  {
   "cell_type": "code",
   "execution_count": 74,
   "id": "30c1aac8",
   "metadata": {},
   "outputs": [
    {
     "name": "stdout",
     "output_type": "stream",
     "text": [
      "0.05137715\n"
     ]
    }
   ],
   "source": [
    "val_temperature_mae9=tf.keras.metrics.mean_absolute_error(y_val_temperature9,y_val_temperature_predict9)\n",
    "print(np.mean(val_temperature_mae9))"
   ]
  },
  {
   "cell_type": "code",
   "execution_count": 75,
   "id": "67ca956d",
   "metadata": {},
   "outputs": [
    {
     "name": "stdout",
     "output_type": "stream",
     "text": [
      "0.12707599\n"
     ]
    }
   ],
   "source": [
    "val_humidity_mae9=tf.keras.metrics.mean_absolute_error(y_val_humidity9,y_val_humidity_predict9)\n",
    "print(np.mean(val_humidity_mae9))"
   ]
  },
  {
   "cell_type": "code",
   "execution_count": 76,
   "id": "a3dcb6f2",
   "metadata": {},
   "outputs": [
    {
     "name": "stdout",
     "output_type": "stream",
     "text": [
      "0.054092437\n"
     ]
    }
   ],
   "source": [
    "test_temperature_mae_mlp9=tf.keras.metrics.mean_absolute_error(y_test_temperature9,y_test_temperature_predict_mlp9)\n",
    "print(np.mean(test_temperature_mae_mlp9))"
   ]
  },
  {
   "cell_type": "code",
   "execution_count": 77,
   "id": "f6c58ea7",
   "metadata": {},
   "outputs": [
    {
     "name": "stdout",
     "output_type": "stream",
     "text": [
      "0.13222294\n"
     ]
    }
   ],
   "source": [
    "test_humidity_mae_mlp9=tf.keras.metrics.mean_absolute_error(y_test_humidity9,y_test_humidity_predict_mlp9)\n",
    "print(np.mean(test_humidity_mae_mlp9))"
   ]
  },
  {
   "cell_type": "markdown",
   "id": "6f5c3940",
   "metadata": {},
   "source": [
    "<b>Run the below cells for the pruning procedure</b></br>\n",
    "<b>We have to use the normalized train and test data <br>\n",
    "We have to consider the number of outputs in order to use the right test data (3 or 9) </b> <br>\n",
    " x_test_norm3, y_test_norm3<br>\n",
    "<b>OR</b> <br>\n",
    " x_test_norm9, y_test_norm9 <br>"
   ]
  },
  {
   "cell_type": "code",
   "execution_count": 79,
   "id": "ac203a0e",
   "metadata": {},
   "outputs": [
    {
     "name": "stdout",
     "output_type": "stream",
     "text": [
      "Model: \"sequential_2\"\n",
      "_________________________________________________________________\n",
      " Layer (type)                Output Shape              Param #   \n",
      "=================================================================\n",
      " prune_low_magnitude_flatten  (None, 12)               1         \n",
      " _2 (PruneLowMagnitude)                                          \n",
      "                                                                 \n",
      " prune_low_magnitude_dense_6  (None, 32)               802       \n",
      "  (PruneLowMagnitude)                                            \n",
      "                                                                 \n",
      " prune_low_magnitude_dense_7  (None, 32)               2082      \n",
      "  (PruneLowMagnitude)                                            \n",
      "                                                                 \n",
      " prune_low_magnitude_dense_8  (None, 18)               1172      \n",
      "  (PruneLowMagnitude)                                            \n",
      "                                                                 \n",
      "=================================================================\n",
      "Total params: 4,057\n",
      "Trainable params: 2,066\n",
      "Non-trainable params: 1,991\n",
      "_________________________________________________________________\n",
      "Epoch 1/20\n",
      "   1/9200 [..............................] - ETA: 2:27:23 - loss: 0.1092 - mae: 0.1092WARNING:tensorflow:Callback method `on_train_batch_end` is slow compared to the batch time (batch time: 0.0004s vs `on_train_batch_end` time: 0.0053s). Check your callbacks.\n"
     ]
    },
    {
     "name": "stderr",
     "output_type": "stream",
     "text": [
      "WARNING:tensorflow:Callback method `on_train_batch_end` is slow compared to the batch time (batch time: 0.0004s vs `on_train_batch_end` time: 0.0053s). Check your callbacks.\n"
     ]
    },
    {
     "name": "stdout",
     "output_type": "stream",
     "text": [
      "9200/9200 [==============================] - 9s 905us/step - loss: 0.0913 - mae: 0.0913\n",
      "Epoch 2/20\n",
      "9200/9200 [==============================] - 8s 849us/step - loss: 0.0907 - mae: 0.0907\n",
      "Epoch 3/20\n",
      "9200/9200 [==============================] - 8s 829us/step - loss: 0.0904 - mae: 0.0904\n",
      "Epoch 4/20\n",
      "9200/9200 [==============================] - 8s 904us/step - loss: 0.0901 - mae: 0.0901\n",
      "Epoch 5/20\n",
      "9200/9200 [==============================] - 8s 877us/step - loss: 0.0897 - mae: 0.0897\n",
      "Epoch 6/20\n",
      "9200/9200 [==============================] - 8s 840us/step - loss: 0.0896 - mae: 0.0896\n",
      "Epoch 7/20\n",
      "9200/9200 [==============================] - 8s 860us/step - loss: 0.0896 - mae: 0.0896\n",
      "Epoch 8/20\n",
      "9200/9200 [==============================] - 9s 926us/step - loss: 0.0897 - mae: 0.0897\n",
      "Epoch 9/20\n",
      "9200/9200 [==============================] - 8s 906us/step - loss: 0.0901 - mae: 0.0901\n",
      "Epoch 10/20\n",
      "9200/9200 [==============================] - 8s 886us/step - loss: 0.0905 - mae: 0.0905\n",
      "Epoch 11/20\n",
      "9200/9200 [==============================] - 8s 839us/step - loss: 0.0909 - mae: 0.0909\n",
      "Epoch 12/20\n",
      "9200/9200 [==============================] - 8s 827us/step - loss: 0.0919 - mae: 0.0919\n",
      "Epoch 13/20\n",
      "9200/9200 [==============================] - 8s 815us/step - loss: 0.0944 - mae: 0.0944\n",
      "Epoch 14/20\n",
      "9200/9200 [==============================] - 7s 814us/step - loss: 0.0950 - mae: 0.0950\n",
      "Epoch 15/20\n",
      "9200/9200 [==============================] - 7s 815us/step - loss: 0.0941 - mae: 0.0941\n",
      "Epoch 16/20\n",
      "9200/9200 [==============================] - 8s 819us/step - loss: 0.0931 - mae: 0.0931\n",
      "Epoch 17/20\n",
      "9200/9200 [==============================] - 8s 835us/step - loss: 0.0929 - mae: 0.0929\n",
      "Epoch 18/20\n",
      "9200/9200 [==============================] - 7s 814us/step - loss: 0.0929 - mae: 0.0929\n",
      "Epoch 19/20\n",
      "9200/9200 [==============================] - 7s 812us/step - loss: 0.0928 - mae: 0.0928\n",
      "Epoch 20/20\n",
      "9200/9200 [==============================] - 8s 823us/step - loss: 0.0928 - mae: 0.0928\n",
      "Pruned test accuracy: 3.389392137527466\n",
      "WARNING:tensorflow:Compiled the loaded model, but the compiled metrics have yet to be built. `model.compile_metrics` will be empty until you train or evaluate the model.\n"
     ]
    },
    {
     "name": "stderr",
     "output_type": "stream",
     "text": [
      "WARNING:tensorflow:Compiled the loaded model, but the compiled metrics have yet to be built. `model.compile_metrics` will be empty until you train or evaluate the model.\n"
     ]
    },
    {
     "name": "stdout",
     "output_type": "stream",
     "text": [
      "Saved pruned Keras model to: C:\\Users\\aligh\\AppData\\Local\\Temp\\tmpn5knofl7.h5\n",
      "INFO:tensorflow:Assets written to: C:\\Users\\aligh\\AppData\\Local\\Temp\\tmpoo248cpc\\assets\n"
     ]
    },
    {
     "name": "stderr",
     "output_type": "stream",
     "text": [
      "INFO:tensorflow:Assets written to: C:\\Users\\aligh\\AppData\\Local\\Temp\\tmpoo248cpc\\assets\n",
      "WARNING:absl:Buffer deduplication procedure will be skipped when flatbuffer library is not properly loaded\n"
     ]
    },
    {
     "name": "stdout",
     "output_type": "stream",
     "text": [
      "Saved pruned TFLite model to: C:\\Users\\aligh\\AppData\\Local\\Temp\\tmprc77ap99.tflite\n"
     ]
    }
   ],
   "source": [
    "import tensorflow_model_optimization as tfmot\n",
    "import tempfile\n",
    "prune_low_magnitude = tfmot.sparsity.keras.prune_low_magnitude\n",
    "\n",
    "# Compute end step to finish pruning after 2 epochs.\n",
    "batch_size = 32\n",
    "epochs = 20\n",
    "validation_split = 0.2  # 10% of training set will be used for validation set.\n",
    "\n",
    "num_images = 294370 * (1 - validation_split)\n",
    "end_step = np.ceil(num_images / batch_size).astype(np.int32) * epochs\n",
    "\n",
    "# Define model for pruning.\n",
    "pruning_params = {\n",
    "    'pruning_schedule': tfmot.sparsity.keras.PolynomialDecay(initial_sparsity=0,\n",
    "                                                             final_sparsity=0.9,\n",
    "                                                             begin_step=0,\n",
    "                                                             end_step=end_step)\n",
    "}\n",
    "\n",
    "model_for_pruning = prune_low_magnitude(mlp, **pruning_params)\n",
    "\n",
    "# `prune_low_magnitude` requires a recompile.\n",
    "model_for_pruning.compile(optimizer='adam',\n",
    "                          loss=tf.keras.losses.MeanAbsoluteError(),\n",
    "                          metrics=['mae'])\n",
    "\n",
    "model_for_pruning.summary()\n",
    "logdir = tempfile.mkdtemp()\n",
    "\n",
    "callbacks = [\n",
    "    tfmot.sparsity.keras.UpdatePruningStep(),\n",
    "    tfmot.sparsity.keras.PruningSummaries(log_dir=logdir),\n",
    "]\n",
    "\n",
    "model_for_pruning.fit(x_train_norm, y_train_norm,\n",
    "                      batch_size=batch_size, epochs=epochs, callbacks=callbacks)\n",
    "_, model_for_pruning_accuracy = model_for_pruning.evaluate(\n",
    "    x_test9, y_test9, verbose=0)\n",
    "\n",
    "print('Pruned test accuracy:', model_for_pruning_accuracy)\n",
    "model_for_export = tfmot.sparsity.keras.strip_pruning(model_for_pruning)\n",
    "\n",
    "_, pruned_keras_file = tempfile.mkstemp('.h5')\n",
    "tf.keras.models.save_model(model_for_export, pruned_keras_file, include_optimizer=False)\n",
    "print('Saved pruned Keras model to:', pruned_keras_file)\n",
    "converter = tf.lite.TFLiteConverter.from_keras_model(model_for_export)\n",
    "converter.optimizations = [tf.lite.Optimize.DEFAULT]\n",
    "pruned_tflite_model = converter.convert()\n",
    "\n",
    "_, pruned_tflite_file = tempfile.mkstemp('.tflite')\n",
    "\n",
    "with open(pruned_tflite_file, 'wb') as f:\n",
    "    f.write(pruned_tflite_model)\n",
    "\n",
    "print('Saved pruned TFLite model to:', pruned_tflite_file)"
   ]
  },
  {
   "cell_type": "code",
   "execution_count": 80,
   "id": "58fd8ead",
   "metadata": {},
   "outputs": [
    {
     "name": "stdout",
     "output_type": "stream",
     "text": [
      "Original size: 7345\n",
      "Compressed size: 2206\n"
     ]
    }
   ],
   "source": [
    "import zlib, sys\n",
    "\n",
    "filename_in = \"C:/Users/aligh/AppData/Local/Temp/tmprc77ap99.tflite\"\n",
    "filename_out = \"./compressed_cnn9.tflite.zlib\"\n",
    "\n",
    "with open(filename_in, mode=\"rb\") as fin, open(filename_out, mode=\"wb\") as fout:\n",
    "    data = fin.read()\n",
    "    compressed_data = zlib.compress(data, 9)\n",
    "    print(f\"Original size: {sys.getsizeof(data)}\")\n",
    "    # Original size: 1000033\n",
    "    print(f\"Compressed size: {sys.getsizeof(compressed_data)}\")\n",
    "    # Compressed size: 1024\n",
    "\n",
    "    fout.write(compressed_data)"
   ]
  },
  {
   "cell_type": "markdown",
   "id": "39eeb977",
   "metadata": {},
   "source": [
    "<b>MAE for the pruned model  <br>\n",
    "(The MAE of the models after the pruning)</b> <br>"
   ]
  },
  {
   "cell_type": "markdown",
   "id": "a5d600fb",
   "metadata": {},
   "source": [
    " <b>output=9"
   ]
  },
  {
   "cell_type": "code",
   "execution_count": 81,
   "id": "946ab0ea",
   "metadata": {},
   "outputs": [
    {
     "name": "stdout",
     "output_type": "stream",
     "text": [
      "1314/1314 - 1s - 566ms/epoch - 431us/step\n"
     ]
    }
   ],
   "source": [
    "y_test_predict_mlp9_prune=model_for_pruning.predict(x_test_norm9,verbose=2)"
   ]
  },
  {
   "cell_type": "code",
   "execution_count": 82,
   "id": "1e200794",
   "metadata": {},
   "outputs": [],
   "source": [
    "y_test_temperature_mlp9=y_test_norm9[:, 0::2]\n",
    "y_test_humidity_mlp9=y_test_norm9[:, 1::2]\n",
    "y_test_temperature_predict_mlp9_prune=y_test_predict_mlp9_prune[:, 0::2]\n",
    "y_test_humidity_predict_mlp9_prune=y_test_predict_mlp9_prune[:, 1::2]\n"
   ]
  },
  {
   "cell_type": "code",
   "execution_count": 83,
   "id": "a43a4ff2",
   "metadata": {},
   "outputs": [
    {
     "name": "stdout",
     "output_type": "stream",
     "text": [
      "0.05768358\n"
     ]
    }
   ],
   "source": [
    "test_temperature_mae_mlp9_prune=tf.keras.metrics.mean_absolute_error(y_test_temperature_mlp9,y_test_temperature_predict_mlp9_prune)\n",
    "print(np.mean(test_temperature_mae_mlp9_prune))"
   ]
  },
  {
   "cell_type": "code",
   "execution_count": 85,
   "id": "6d5e0fe1",
   "metadata": {},
   "outputs": [
    {
     "name": "stdout",
     "output_type": "stream",
     "text": [
      "0.13139595\n"
     ]
    }
   ],
   "source": [
    "test_humidity_mae_mlp9_prune=tf.keras.metrics.mean_absolute_error(y_test_humidity_mlp9,y_test_humidity_predict_mlp9_prune)\n",
    "print(np.mean(test_humidity_mae_mlp9_prune))"
   ]
  },
  {
   "cell_type": "markdown",
   "id": "8a252a1d",
   "metadata": {},
   "source": [
    "<b>output=3"
   ]
  },
  {
   "cell_type": "code",
   "execution_count": 55,
   "id": "0b8befa0",
   "metadata": {},
   "outputs": [
    {
     "name": "stdout",
     "output_type": "stream",
     "text": [
      "1314/1314 - 0s - 485ms/epoch - 369us/step\n"
     ]
    }
   ],
   "source": [
    "y_test_predict_mlp3_prune=model_for_pruning.predict(x_test_norm3,verbose=2)"
   ]
  },
  {
   "cell_type": "code",
   "execution_count": 56,
   "id": "861010f1",
   "metadata": {},
   "outputs": [],
   "source": [
    "y_test_temperature_mlp3=y_test_norm3[:, 0::2]\n",
    "y_test_humidity_mlp3=y_test_norm3[:, 1::2]\n",
    "y_test_temperature_predict_mlp3_prune=y_test_predict_mlp3_prune[:, 0::2]\n",
    "y_test_humidity_predict_mlp3_prune=y_test_predict_mlp3_prune[:, 1::2]\n"
   ]
  },
  {
   "cell_type": "code",
   "execution_count": 57,
   "id": "89a11ce7",
   "metadata": {},
   "outputs": [
    {
     "name": "stdout",
     "output_type": "stream",
     "text": [
      "0.028665833\n"
     ]
    }
   ],
   "source": [
    "test_temperature_mae_mlp3_prune=tf.keras.metrics.mean_absolute_error(y_test_temperature_mlp3,y_test_temperature_predict_mlp3_prune)\n",
    "print(np.mean(test_temperature_mae_mlp3_prune))"
   ]
  },
  {
   "cell_type": "code",
   "execution_count": 58,
   "id": "22cfab82",
   "metadata": {},
   "outputs": [
    {
     "name": "stdout",
     "output_type": "stream",
     "text": [
      "0.06857006\n"
     ]
    }
   ],
   "source": [
    "test_humidity_mae_mlp3_prune=tf.keras.metrics.mean_absolute_error(y_test_humidity_mlp3,y_test_humidity_predict_mlp3_prune)\n",
    "print(np.mean(test_humidity_mae_mlp3_prune))"
   ]
  },
  {
   "cell_type": "markdown",
   "id": "19cf19fa",
   "metadata": {},
   "source": [
    "<b>CNN</b>\n"
   ]
  },
  {
   "cell_type": "code",
   "execution_count": 39,
   "id": "1a8cc86f",
   "metadata": {},
   "outputs": [
    {
     "name": "stdout",
     "output_type": "stream",
     "text": [
      "Epoch 1/20\n",
      "9200/9200 [==============================] - 6s 665us/step - loss: 0.0634\n",
      "Epoch 2/20\n",
      "9200/9200 [==============================] - 6s 678us/step - loss: 0.0502\n",
      "Epoch 3/20\n",
      "9200/9200 [==============================] - 6s 679us/step - loss: 0.0490\n",
      "Epoch 4/20\n",
      "9200/9200 [==============================] - 6s 656us/step - loss: 0.0483\n",
      "Epoch 5/20\n",
      "9200/9200 [==============================] - 6s 650us/step - loss: 0.0478\n",
      "Epoch 6/20\n",
      "9200/9200 [==============================] - 6s 654us/step - loss: 0.0475\n",
      "Epoch 7/20\n",
      "9200/9200 [==============================] - 6s 654us/step - loss: 0.0475\n",
      "Epoch 8/20\n",
      "9200/9200 [==============================] - 6s 647us/step - loss: 0.0473\n",
      "Epoch 9/20\n",
      "9200/9200 [==============================] - 6s 646us/step - loss: 0.0472\n",
      "Epoch 10/20\n",
      "9200/9200 [==============================] - 6s 651us/step - loss: 0.0471\n",
      "Epoch 11/20\n",
      "9200/9200 [==============================] - 6s 646us/step - loss: 0.0470\n",
      "Epoch 12/20\n",
      "9200/9200 [==============================] - 6s 651us/step - loss: 0.0470\n",
      "Epoch 13/20\n",
      "9200/9200 [==============================] - 6s 655us/step - loss: 0.0468\n",
      "Epoch 14/20\n",
      "9200/9200 [==============================] - 6s 651us/step - loss: 0.0468\n",
      "Epoch 15/20\n",
      "9200/9200 [==============================] - 6s 647us/step - loss: 0.0468\n",
      "Epoch 16/20\n",
      "9200/9200 [==============================] - 6s 649us/step - loss: 0.0468\n",
      "Epoch 17/20\n",
      "9200/9200 [==============================] - 6s 651us/step - loss: 0.0467\n",
      "Epoch 18/20\n",
      "9200/9200 [==============================] - 6s 649us/step - loss: 0.0467\n",
      "Epoch 19/20\n",
      "9200/9200 [==============================] - 6s 647us/step - loss: 0.0466\n",
      "Epoch 20/20\n",
      "9200/9200 [==============================] - 6s 654us/step - loss: 0.0466\n",
      "Model: \"sequential_2\"\n",
      "_________________________________________________________________\n",
      " Layer (type)                Output Shape              Param #   \n",
      "=================================================================\n",
      " conv1d_2 (Conv1D)           (None, 4, 16)             112       \n",
      "                                                                 \n",
      " flatten_2 (Flatten)         (None, 64)                0         \n",
      "                                                                 \n",
      " dense_4 (Dense)             (None, 16)                1040      \n",
      "                                                                 \n",
      " dense_5 (Dense)             (None, 6)                 102       \n",
      "                                                                 \n",
      "=================================================================\n",
      "Total params: 1,254\n",
      "Trainable params: 1,254\n",
      "Non-trainable params: 0\n",
      "_________________________________________________________________\n"
     ]
    }
   ],
   "source": [
    "\n",
    "output_steps=3\n",
    "input_steps=6\n",
    "\n",
    "x_train,y_train=window_gen(train_data,input_steps,output_steps,True)\n",
    "\n",
    "x_mean_cnn,y_mean_cnn,x_std_cnn,y_std_cnn=mean_std(x_train,y_train)\n",
    "\n",
    "x_train_norm,y_train_norm=normalization(x_train,y_train,x_mean_cnn,y_mean_cnn,x_std_cnn,y_std_cnn)\n",
    "\n",
    "\n",
    "alpha=0.25\n",
    "cnn=tf.keras.Sequential([\n",
    "    layers.Conv1D(filters=64*alpha,kernel_size=(3,),activation='relu'),\n",
    "    layers.Flatten(),\n",
    "    layers.Dense(units=64*alpha,activation='relu'),\n",
    "    layers.Dense(units=output_steps*2)\n",
    "])\n",
    "\n",
    "\n",
    "cnn.compile(loss='mae',optimizer='adam')\n",
    "\n",
    "\n",
    "\n",
    "loss=tf.losses.MeanSquaredError()\n",
    "optimizer=tf.optimizers.Adam()\n",
    "\n",
    "\n",
    "\n",
    "cnn.fit(x_train_norm,y_train_norm,batch_size=32,epochs=20) \n",
    "#To Do: decrease the learning rate a little bit\n",
    "\n",
    "cnn.summary()"
   ]
  },
  {
   "cell_type": "code",
   "execution_count": 40,
   "id": "4dc9aa4f",
   "metadata": {},
   "outputs": [
    {
     "name": "stdout",
     "output_type": "stream",
     "text": [
      "9200/9200 - 4s - 4s/epoch - 385us/step\n",
      "[[-1.9662133   1.0877624  -1.9563715   1.077068   -1.9474559   1.0571493 ]\n",
      " [-1.9046162   1.1029911  -1.8839453   1.0812174  -1.8700521   1.0523007 ]\n",
      " [-1.9391726   1.1410359  -1.9223863   1.1347786  -1.9092234   1.1121951 ]\n",
      " ...\n",
      " [ 0.65759003  1.1777014   0.64832443  1.1862938   0.63872784  1.1922685 ]\n",
      " [ 0.6843612   1.1444333   0.67700785  1.1473686   0.6706541   1.1487209 ]\n",
      " [ 0.6212601   1.1567677   0.6130862   1.1731272   0.60316175  1.1830002 ]]\n"
     ]
    }
   ],
   "source": [
    "yhat = cnn.predict(x_train_norm, verbose=2)\n",
    "print(yhat)"
   ]
  },
  {
   "cell_type": "code",
   "execution_count": 41,
   "id": "6430eec7",
   "metadata": {},
   "outputs": [
    {
     "data": {
      "text/plain": [
       "array([-1.9330546,  1.141171 , -1.9330804,  1.1170117, -1.9666122,\n",
       "        1.0807725], dtype=float32)"
      ]
     },
     "execution_count": 41,
     "metadata": {},
     "output_type": "execute_result"
    }
   ],
   "source": [
    "y_train_norm[0]"
   ]
  },
  {
   "cell_type": "code",
   "execution_count": 42,
   "id": "b122b249",
   "metadata": {},
   "outputs": [
    {
     "data": {
      "text/plain": [
       "array([0.6265647, 1.1894891, 0.6092276, 1.2015688, 0.6184671, 1.207608 ],\n",
       "      dtype=float32)"
      ]
     },
     "execution_count": 42,
     "metadata": {},
     "output_type": "execute_result"
    }
   ],
   "source": [
    "y_train_norm[-1]"
   ]
  },
  {
   "cell_type": "markdown",
   "id": "f29640a7",
   "metadata": {},
   "source": [
    "<b>Run the below cells for validation and testing for the output steps of 3<b>"
   ]
  },
  {
   "cell_type": "code",
   "execution_count": 43,
   "id": "f9123de5",
   "metadata": {},
   "outputs": [],
   "source": [
    "output_steps=3\n",
    "input_steps=6\n",
    "\n",
    "x_val3,y_val3=window_gen(val_data,input_steps,output_steps,True)\n",
    "x_test3,y_test3=window_gen(test_data,input_steps,output_steps,True)\n",
    "\n",
    "\n",
    "x_val_norm3,y_val_norm3=normalization(x_val3,y_val3,x_mean_cnn,y_mean_cnn,x_std_cnn,y_std_cnn)\n",
    "x_test_norm3,y_test_norm3=normalization(x_test3,y_test3,x_mean_cnn,y_mean_cnn,x_std_cnn,y_std_cnn)"
   ]
  },
  {
   "cell_type": "code",
   "execution_count": 44,
   "id": "d6e6e0a9",
   "metadata": {},
   "outputs": [
    {
     "name": "stdout",
     "output_type": "stream",
     "text": [
      "2629/2629 - 1s - 983ms/epoch - 374us/step\n"
     ]
    }
   ],
   "source": [
    "y_val_predict_cnn3=cnn.predict(x_val_norm3,verbose=2)"
   ]
  },
  {
   "cell_type": "code",
   "execution_count": 45,
   "id": "18230954",
   "metadata": {},
   "outputs": [
    {
     "name": "stdout",
     "output_type": "stream",
     "text": [
      "1314/1314 - 0s - 500ms/epoch - 380us/step\n"
     ]
    }
   ],
   "source": [
    "y_test_predict_cnn3=cnn.predict(x_test_norm3,verbose=2)"
   ]
  },
  {
   "cell_type": "code",
   "execution_count": 46,
   "id": "dd2937b7",
   "metadata": {},
   "outputs": [],
   "source": [
    "y_val_temperature_cnn3=y_val_norm3[:, 0::2]\n",
    "y_val_humidity_cnn3=y_val_norm3[:, 1::2]\n",
    "y_val_temperature_predict_cnn3=y_val_predict_cnn3[:, 0::2]\n",
    "y_val_humidity_predict_cnn3=y_val_predict_cnn3[:, 1::2]\n",
    "\n",
    "\n",
    "y_test_temperature_cnn3=y_test_norm3[:, 0::2]\n",
    "y_test_humidity_cnn3=y_test_norm3[:, 1::2]\n",
    "y_test_temperature_predict_cnn3=y_test_predict_cnn3[:, 0::2]\n",
    "y_test_humidity_predict_cnn3=y_test_predict_cnn3[:, 1::2]"
   ]
  },
  {
   "cell_type": "code",
   "execution_count": 47,
   "id": "6d796a3a",
   "metadata": {},
   "outputs": [
    {
     "name": "stdout",
     "output_type": "stream",
     "text": [
      "0.025500312\n"
     ]
    }
   ],
   "source": [
    "val_temperature_mae_cnn3=tf.keras.metrics.mean_absolute_error(y_val_temperature_cnn3,y_val_temperature_predict_cnn3)\n",
    "print(np.mean(val_temperature_mae_cnn3))"
   ]
  },
  {
   "cell_type": "code",
   "execution_count": 48,
   "id": "085ef0f5",
   "metadata": {},
   "outputs": [
    {
     "name": "stdout",
     "output_type": "stream",
     "text": [
      "0.06401536\n"
     ]
    }
   ],
   "source": [
    "val_humidity_mae3=tf.keras.metrics.mean_absolute_error(y_val_humidity_cnn3,y_val_humidity_predict_cnn3)\n",
    "print(np.mean(val_humidity_mae3))"
   ]
  },
  {
   "cell_type": "code",
   "execution_count": 49,
   "id": "376c8b32",
   "metadata": {},
   "outputs": [
    {
     "name": "stdout",
     "output_type": "stream",
     "text": [
      "0.027606247\n"
     ]
    }
   ],
   "source": [
    "test_temperature_mae_cnn3=tf.keras.metrics.mean_absolute_error(y_test_temperature_cnn3,y_test_temperature_predict_cnn3)\n",
    "print(np.mean(test_temperature_mae_cnn3))"
   ]
  },
  {
   "cell_type": "code",
   "execution_count": 50,
   "id": "6b69a52f",
   "metadata": {},
   "outputs": [
    {
     "name": "stdout",
     "output_type": "stream",
     "text": [
      "0.069080375\n"
     ]
    }
   ],
   "source": [
    "test_humidity_mae3=tf.keras.metrics.mean_absolute_error(y_test_humidity_cnn3,y_test_humidity_predict_cnn3)\n",
    "print(np.mean(test_humidity_mae3))"
   ]
  },
  {
   "cell_type": "markdown",
   "id": "8d3f1aa8",
   "metadata": {},
   "source": [
    "<b>Run the below cells for validation and testing for output steps of 9<b>"
   ]
  },
  {
   "cell_type": "code",
   "execution_count": 11,
   "id": "10349de6",
   "metadata": {},
   "outputs": [],
   "source": [
    "#creating the val and test dataset and normalization\n",
    "\n",
    "output_steps=9\n",
    "input_steps=6\n",
    "\n",
    "x_val9,y_val9=window_gen(val_data,input_steps,output_steps,True)\n",
    "x_test9,y_test9=window_gen(test_data,input_steps,output_steps,True)\n",
    "\n",
    "\n",
    "x_val_norm9,y_val_norm9=normalization(x_val9,y_val9,x_mean_cnn,y_mean_cnn,x_std_cnn,y_std_cnn)\n",
    "x_test_norm9,y_test_norm9=normalization(x_test9,y_test9,x_mean_cnn,y_mean_cnn,x_std_cnn,y_std_cnn)"
   ]
  },
  {
   "cell_type": "code",
   "execution_count": 12,
   "id": "a0053fcd",
   "metadata": {},
   "outputs": [
    {
     "name": "stdout",
     "output_type": "stream",
     "text": [
      "2628/2628 - 1s - 1s/epoch - 406us/step\n"
     ]
    }
   ],
   "source": [
    "y_val_predict_cnn9=cnn.predict(x_val_norm9,verbose=2)"
   ]
  },
  {
   "cell_type": "code",
   "execution_count": 13,
   "id": "cdbbbf2f",
   "metadata": {},
   "outputs": [
    {
     "name": "stdout",
     "output_type": "stream",
     "text": [
      "1314/1314 - 1s - 534ms/epoch - 406us/step\n"
     ]
    }
   ],
   "source": [
    "y_test_predict_cnn9=cnn.predict(x_test_norm9,verbose=2)"
   ]
  },
  {
   "cell_type": "code",
   "execution_count": 14,
   "id": "0ed599ef",
   "metadata": {},
   "outputs": [],
   "source": [
    "\n",
    "# x_val9,y_val9=window_gen(val_data,input_steps,output_steps,True)\n",
    "# x_test9,y_test9=window_gen(test_data,input_steps,output_steps,True)\n"
   ]
  },
  {
   "cell_type": "code",
   "execution_count": 15,
   "id": "35c662ac",
   "metadata": {},
   "outputs": [
    {
     "name": "stdout",
     "output_type": "stream",
     "text": [
      "2628/2628 - 1s - 1s/epoch - 408us/step\n",
      "0.09172256\n"
     ]
    }
   ],
   "source": [
    "y_val_predict_cnn9=cnn.predict(x_val_norm9,verbose=2)\n",
    "val_mae_cnn9=tf.keras.metrics.mean_absolute_error(y_val_norm9,y_val_predict_cnn9)\n",
    "print(np.mean(val_mae_cnn9))"
   ]
  },
  {
   "cell_type": "code",
   "execution_count": 16,
   "id": "f05708f2",
   "metadata": {},
   "outputs": [],
   "source": [
    "y_val_temperature_cnn9=y_val_norm9[:, 0::2]\n",
    "y_val_humidity_cnn9=y_val_norm9[:, 1::2]\n",
    "y_val_temperature_predict_cnn9=y_val_predict_cnn9[:, 0::2]\n",
    "y_val_humidity_predict_cnn9=y_val_predict_cnn9[:, 1::2]\n",
    "\n",
    "\n",
    "y_test_temperature_cnn9=y_test_norm9[:, 0::2]\n",
    "y_test_humidity_cnn9=y_test_norm9[:, 1::2]\n",
    "y_test_temperature_predict_cnn9=y_test_predict_cnn9[:, 0::2]\n",
    "y_test_humidity_predict_cnn9=y_test_predict_cnn9[:, 1::2]"
   ]
  },
  {
   "cell_type": "code",
   "execution_count": 17,
   "id": "e07fdf36",
   "metadata": {},
   "outputs": [
    {
     "name": "stdout",
     "output_type": "stream",
     "text": [
      "0.05240445\n"
     ]
    }
   ],
   "source": [
    "val_temperature_mae_cnn9=tf.keras.metrics.mean_absolute_error(y_val_temperature_cnn9,y_val_temperature_predict_cnn9)\n",
    "print(np.mean(val_temperature_mae_cnn9))"
   ]
  },
  {
   "cell_type": "code",
   "execution_count": 18,
   "id": "3c422b69",
   "metadata": {},
   "outputs": [
    {
     "name": "stdout",
     "output_type": "stream",
     "text": [
      "0.13104069\n"
     ]
    }
   ],
   "source": [
    "val_humidity_mae9=tf.keras.metrics.mean_absolute_error(y_val_humidity_cnn9,y_val_humidity_predict_cnn9)\n",
    "print(np.mean(val_humidity_mae9))"
   ]
  },
  {
   "cell_type": "code",
   "execution_count": 19,
   "id": "add89901",
   "metadata": {},
   "outputs": [
    {
     "name": "stdout",
     "output_type": "stream",
     "text": [
      "0.055685066\n"
     ]
    }
   ],
   "source": [
    "test_temperature_mae_cnn9=tf.keras.metrics.mean_absolute_error(y_test_temperature_cnn9,y_test_temperature_predict_cnn9)\n",
    "print(np.mean(test_temperature_mae_cnn9))"
   ]
  },
  {
   "cell_type": "code",
   "execution_count": 20,
   "id": "1288c05d",
   "metadata": {},
   "outputs": [
    {
     "name": "stdout",
     "output_type": "stream",
     "text": [
      "0.13682644\n"
     ]
    }
   ],
   "source": [
    "test_humidity_mae9=tf.keras.metrics.mean_absolute_error(y_test_humidity_cnn9,y_test_humidity_predict_cnn9)\n",
    "print(np.mean(test_humidity_mae9))"
   ]
  },
  {
   "cell_type": "markdown",
   "id": "203d8a90",
   "metadata": {},
   "source": [
    "<b>Run the below cells for the pruning procedure</b></br>\n",
    "<b>We have to use the normalized train and test data <br>\n",
    "We have to consider the number of outputs in order to use the right test data (3 or 9) </b> <br>\n",
    " x_test_norm3, y_test_norm3<br>\n",
    "<b>OR</b> <br>\n",
    " x_test_norm9, y_test_norm9 <br>"
   ]
  },
  {
   "cell_type": "code",
   "execution_count": 101,
   "id": "82c10c36",
   "metadata": {},
   "outputs": [
    {
     "ename": "NameError",
     "evalue": "name 'cnn' is not defined",
     "output_type": "error",
     "traceback": [
      "\u001b[1;31m---------------------------------------------------------------------------\u001b[0m",
      "\u001b[1;31mNameError\u001b[0m                                 Traceback (most recent call last)",
      "\u001b[1;32m~\\AppData\\Local\\Temp/ipykernel_20412/1590416753.py\u001b[0m in \u001b[0;36m<module>\u001b[1;34m\u001b[0m\n\u001b[0;32m     22\u001b[0m }\n\u001b[0;32m     23\u001b[0m \u001b[1;33m\u001b[0m\u001b[0m\n\u001b[1;32m---> 24\u001b[1;33m \u001b[0mmodel_for_pruning\u001b[0m \u001b[1;33m=\u001b[0m \u001b[0mprune_low_magnitude\u001b[0m\u001b[1;33m(\u001b[0m\u001b[0mcnn\u001b[0m\u001b[1;33m,\u001b[0m \u001b[1;33m**\u001b[0m\u001b[0mpruning_params\u001b[0m\u001b[1;33m)\u001b[0m\u001b[1;33m\u001b[0m\u001b[1;33m\u001b[0m\u001b[0m\n\u001b[0m\u001b[0;32m     25\u001b[0m \u001b[1;33m\u001b[0m\u001b[0m\n\u001b[0;32m     26\u001b[0m \u001b[1;31m# `prune_low_magnitude` requires a recompile.\u001b[0m\u001b[1;33m\u001b[0m\u001b[1;33m\u001b[0m\u001b[0m\n",
      "\u001b[1;31mNameError\u001b[0m: name 'cnn' is not defined"
     ]
    }
   ],
   "source": [
    "import tensorflow_model_optimization as tfmot\n",
    "import tempfile\n",
    "# prune_low_magnitude = tfmot.sparsity.keras.prune_low_magnitude\n",
    "# model_for_pruning = prune_low_magnitude(cnn)\n",
    "\n",
    "prune_low_magnitude = tfmot.sparsity.keras.prune_low_magnitude\n",
    "\n",
    "# Compute end step to finish pruning after 2 epochs.\n",
    "batch_size = 32\n",
    "epochs = 20 #best values are either 9 or 10\n",
    "validation_split = 0.2  # 10% of training set will be used for validation set.\n",
    "\n",
    "num_images = 294370 * (1 - validation_split)\n",
    "end_step = np.ceil(num_images / batch_size).astype(np.int32) * epochs\n",
    "\n",
    "# Define model for pruning.\n",
    "pruning_params = {\n",
    "    'pruning_schedule': tfmot.sparsity.keras.PolynomialDecay(initial_sparsity=0,\n",
    "                                                             final_sparsity=0.9,\n",
    "                                                             begin_step=0,\n",
    "                                                             end_step=end_step)\n",
    "}\n",
    "\n",
    "model_for_pruning = prune_low_magnitude(cnn, **pruning_params)\n",
    "\n",
    "# `prune_low_magnitude` requires a recompile.\n",
    "model_for_pruning.compile(optimizer='adam',\n",
    "                          loss=tf.keras.losses.MeanAbsoluteError(),\n",
    "                          metrics=['mae'])\n",
    "\n",
    "model_for_pruning.summary()\n",
    "logdir = tempfile.mkdtemp()\n",
    "\n",
    "callbacks = [\n",
    "    tfmot.sparsity.keras.UpdatePruningStep(),\n",
    "    tfmot.sparsity.keras.PruningSummaries(log_dir=logdir),\n",
    "]\n",
    "\n",
    "model_for_pruning.fit(x_train_norm, y_train_norm,\n",
    "                      batch_size=batch_size, epochs=epochs, callbacks=callbacks)\n",
    "_, model_for_pruning_accuracy = model_for_pruning.evaluate(\n",
    "    x_test_norm3, y_test_norm3, verbose=0)\n",
    "\n",
    "print('Pruned test accuracy:', model_for_pruning_accuracy)\n",
    "model_for_export = tfmot.sparsity.keras.strip_pruning(model_for_pruning)\n",
    "\n",
    "_, pruned_keras_file = tempfile.mkstemp('.h5')\n",
    "tf.keras.models.save_model(model_for_export, pruned_keras_file, include_optimizer=False)\n",
    "print('Saved pruned Keras model to:', pruned_keras_file)\n",
    "converter = tf.lite.TFLiteConverter.from_keras_model(model_for_export)\n",
    "converter.optimizations = [tf.lite.Optimize.DEFAULT]\n",
    "pruned_tflite_model = converter.convert()\n",
    "\n",
    "_, pruned_tflite_file = tempfile.mkstemp('.tflite')\n",
    "\n",
    "with open(pruned_tflite_file, 'wb') as f:\n",
    "    f.write(pruned_tflite_model)\n",
    "\n",
    "print('Saved pruned TFLite model to:', pruned_tflite_file)"
   ]
  },
  {
   "cell_type": "code",
   "execution_count": 53,
   "id": "1506058a",
   "metadata": {},
   "outputs": [
    {
     "name": "stdout",
     "output_type": "stream",
     "text": [
      "Original size: 4529\n",
      "Compressed size: 1629\n"
     ]
    }
   ],
   "source": [
    "import zlib, sys\n",
    "\n",
    "filename_in = \"C:/Users/aligh/AppData/Local/Temp/tmpuq0ot4o4.tflite\"\n",
    "filename_out = \"./compressed_cnn9.tflite.zlib\"\n",
    "\n",
    "with open(filename_in, mode=\"rb\") as fin, open(filename_out, mode=\"wb\") as fout:\n",
    "    data = fin.read()\n",
    "    compressed_data = zlib.compress(data, 9)\n",
    "    print(f\"Original size: {sys.getsizeof(data)}\")\n",
    "    # Original size: 1000033\n",
    "    print(f\"Compressed size: {sys.getsizeof(compressed_data)}\")\n",
    "    # Compressed size: 1024\n",
    "\n",
    "    fout.write(compressed_data)"
   ]
  },
  {
   "cell_type": "markdown",
   "id": "affb64a0",
   "metadata": {},
   "source": [
    "<b>MAE for the pruned model  <br>\n",
    "(The MAE of the models after the pruning)</b> <br>"
   ]
  },
  {
   "cell_type": "markdown",
   "id": "c0e4e119",
   "metadata": {},
   "source": [
    " <b>output=9"
   ]
  },
  {
   "cell_type": "code",
   "execution_count": 24,
   "id": "bdf40529",
   "metadata": {},
   "outputs": [
    {
     "name": "stdout",
     "output_type": "stream",
     "text": [
      "1314/1314 - 1s - 567ms/epoch - 431us/step\n"
     ]
    }
   ],
   "source": [
    "y_test_predict_cnn9_prune=model_for_pruning.predict(x_test_norm9,verbose=2)"
   ]
  },
  {
   "cell_type": "code",
   "execution_count": 25,
   "id": "06b070f9",
   "metadata": {},
   "outputs": [],
   "source": [
    "y_test_temperature_cnn9=y_test_norm9[:, 0::2]\n",
    "y_test_humidity_cnn9=y_test_norm9[:, 1::2]\n",
    "y_test_temperature_predict_cnn9_prune=y_test_predict_cnn9_prune[:, 0::2]\n",
    "y_test_humidity_predict_cnn9_prune=y_test_predict_cnn9_prune[:, 1::2]\n"
   ]
  },
  {
   "cell_type": "code",
   "execution_count": 26,
   "id": "f78b0c4e",
   "metadata": {},
   "outputs": [
    {
     "name": "stdout",
     "output_type": "stream",
     "text": [
      "0.07200625\n"
     ]
    }
   ],
   "source": [
    "test_temperature_mae_cnn9_prune=tf.keras.metrics.mean_absolute_error(y_test_temperature_cnn9,y_test_temperature_predict_cnn9_prune)\n",
    "print(np.mean(test_temperature_mae_cnn9_prune))"
   ]
  },
  {
   "cell_type": "code",
   "execution_count": 27,
   "id": "2f58e9a3",
   "metadata": {},
   "outputs": [
    {
     "name": "stdout",
     "output_type": "stream",
     "text": [
      "0.14742073\n"
     ]
    }
   ],
   "source": [
    "test_humidity_mae_cnn9_prune=tf.keras.metrics.mean_absolute_error(y_test_humidity_cnn9,y_test_humidity_predict_cnn9_prune)\n",
    "print(np.mean(test_humidity_mae_cnn9_prune))"
   ]
  },
  {
   "cell_type": "markdown",
   "id": "1cbda372",
   "metadata": {},
   "source": [
    "<b>output=3"
   ]
  },
  {
   "cell_type": "code",
   "execution_count": 87,
   "id": "2154b95e",
   "metadata": {},
   "outputs": [
    {
     "name": "stdout",
     "output_type": "stream",
     "text": [
      "1314/1314 - 1s - 560ms/epoch - 427us/step\n"
     ]
    }
   ],
   "source": [
    "y_test_predict_cnn3_prune=model_for_pruning.predict(x_test_norm3,verbose=2)"
   ]
  },
  {
   "cell_type": "code",
   "execution_count": 90,
   "id": "6952b8a0",
   "metadata": {},
   "outputs": [],
   "source": [
    "y_test_temperature_cnn3=y_test_norm3[:, 0::2]\n",
    "y_test_humidity_cnn3=y_test_norm3[:, 1::2]\n",
    "y_test_temperature_predict_cnn3_prune=y_test_predict_cnn3_prune[:, 0::2]\n",
    "y_test_humidity_predict_cnn3_prune=y_test_predict_cnn3_prune[:, 1::2]\n"
   ]
  },
  {
   "cell_type": "code",
   "execution_count": 91,
   "id": "4654eee9",
   "metadata": {},
   "outputs": [
    {
     "name": "stdout",
     "output_type": "stream",
     "text": [
      "0.029551366\n"
     ]
    }
   ],
   "source": [
    "test_temperature_mae_cnn3_prune=tf.keras.metrics.mean_absolute_error(y_test_temperature_cnn3,y_test_temperature_predict_cnn3_prune)\n",
    "print(np.mean(test_temperature_mae_cnn3_prune))"
   ]
  },
  {
   "cell_type": "code",
   "execution_count": 92,
   "id": "534a5960",
   "metadata": {},
   "outputs": [
    {
     "name": "stdout",
     "output_type": "stream",
     "text": [
      "0.07264139\n"
     ]
    }
   ],
   "source": [
    "test_humidity_mae_cnn3_prune=tf.keras.metrics.mean_absolute_error(y_test_humidity_cnn3,y_test_humidity_predict_cnn3_prune)\n",
    "print(np.mean(test_humidity_mae_cnn3_prune))"
   ]
  },
  {
   "cell_type": "markdown",
   "id": "734fcdc2",
   "metadata": {},
   "source": [
    "<b>LSTM</b> <br>\n",
    "for this part, we need to use the functional API, sequential doesn't work in this problem \n"
   ]
  },
  {
   "cell_type": "code",
   "execution_count": 23,
   "id": "c21dd80d",
   "metadata": {},
   "outputs": [
    {
     "name": "stdout",
     "output_type": "stream",
     "text": [
      "Model: \"model_1\"\n",
      "__________________________________________________________________________________________________\n",
      " Layer (type)                   Output Shape         Param #     Connected to                     \n",
      "==================================================================================================\n",
      " input_2 (InputLayer)           [(None, 6, 2)]       0           []                               \n",
      "                                                                                                  \n",
      " lstm_1 (LSTM)                  (None, 64)           17152       ['input_2[0][0]']                \n",
      "                                                                                                  \n",
      " flatten_1 (Flatten)            (None, 64)           0           ['lstm_1[0][0]']                 \n",
      "                                                                                                  \n",
      " temperature (Dense)            (None, 3)            195         ['flatten_1[0][0]']              \n",
      "                                                                                                  \n",
      " humidity (Dense)               (None, 3)            195         ['flatten_1[0][0]']              \n",
      "                                                                                                  \n",
      "==================================================================================================\n",
      "Total params: 17,542\n",
      "Trainable params: 17,542\n",
      "Non-trainable params: 0\n",
      "__________________________________________________________________________________________________\n"
     ]
    },
    {
     "data": {
      "image/png": "[encoded data removed]",
      "text/plain": [
       "<IPython.core.display.Image object>"
      ]
     },
     "execution_count": 23,
     "metadata": {},
     "output_type": "execute_result"
    }
   ],
   "source": [
    "from keras.models import Model\n",
    "\n",
    "output_steps=3\n",
    "input_steps=6\n",
    "\n",
    "# lstm=tf.keras.Sequential([\n",
    "#     layers.LSTM(64),\n",
    "#     layers.Flatten(),\n",
    "#     layers.Dense(units=2)\n",
    "# ])\n",
    "\n",
    "\n",
    "input_stuff=keras.Input(shape=(input_steps,2))\n",
    "x=layers.LSTM(64)(input_stuff)\n",
    "x=layers.Flatten()(x)\n",
    "temperature=layers.Dense(units=output_steps,name='temperature')(x)# we give temperature labels to this part \n",
    "humidity=layers.Dense(units=output_steps,name='humidity')(x)#we give humidity labels to this part\n",
    "\n",
    "# loss=tf.losses.MeanSquaredError()\n",
    "\n",
    "optimizer=tf.optimizers.Adam()\n",
    "\n",
    "\n",
    "lstm = Model(inputs=input_stuff,outputs=[temperature, humidity])\n",
    "\n",
    "lstm.summary()\n",
    "\n",
    "tf.keras.utils.plot_model(lstm,show_shapes=True)\n"
   ]
  },
  {
   "cell_type": "code",
   "execution_count": 24,
   "id": "6c36fef9",
   "metadata": {},
   "outputs": [],
   "source": [
    "# Specify the optimizer, and compile the model with loss functions for both outputs\n",
    "lstm.compile(optimizer=optimizer,\n",
    "              loss={'temperature': 'mse', 'humidity': 'mse'},\n",
    " metrics={'temperature':tf.keras.metrics.MeanAbsoluteError(),\n",
    "          'humidity':tf.keras.metrics.MeanAbsoluteError()})"
   ]
  },
  {
   "cell_type": "code",
   "execution_count": 26,
   "id": "39923885",
   "metadata": {},
   "outputs": [
    {
     "name": "stdout",
     "output_type": "stream",
     "text": [
      "Epoch 1/10\n",
      "9200/9200 [==============================] - 23s 3ms/step - loss: 10.8675 - temperature_loss: 3.1273 - humidity_loss: 7.7403 - temperature_mean_absolute_error: 0.8477 - humidity_mean_absolute_error: 1.6343\n",
      "Epoch 2/10\n",
      "9200/9200 [==============================] - 23s 2ms/step - loss: 3.9398 - temperature_loss: 0.2271 - humidity_loss: 3.7127 - temperature_mean_absolute_error: 0.3300 - humidity_mean_absolute_error: 1.2002\n",
      "Epoch 3/10\n",
      "9200/9200 [==============================] - 22s 2ms/step - loss: 3.8214 - temperature_loss: 0.2007 - humidity_loss: 3.6206 - temperature_mean_absolute_error: 0.3055 - humidity_mean_absolute_error: 1.1794\n",
      "Epoch 4/10\n",
      "9200/9200 [==============================] - 23s 3ms/step - loss: 3.7546 - temperature_loss: 0.1852 - humidity_loss: 3.5694 - temperature_mean_absolute_error: 0.2902 - humidity_mean_absolute_error: 1.1674\n",
      "Epoch 5/10\n",
      "9200/9200 [==============================] - 23s 3ms/step - loss: 3.7077 - temperature_loss: 0.1776 - humidity_loss: 3.5301 - temperature_mean_absolute_error: 0.2826 - humidity_mean_absolute_error: 1.1597\n",
      "Epoch 6/10\n",
      "9200/9200 [==============================] - 22s 2ms/step - loss: 3.6752 - temperature_loss: 0.1747 - humidity_loss: 3.5006 - temperature_mean_absolute_error: 0.2802 - humidity_mean_absolute_error: 1.1533\n",
      "Epoch 7/10\n",
      "9200/9200 [==============================] - 22s 2ms/step - loss: 3.6467 - temperature_loss: 0.1706 - humidity_loss: 3.4762 - temperature_mean_absolute_error: 0.2753 - humidity_mean_absolute_error: 1.1462\n",
      "Epoch 8/10\n",
      "9200/9200 [==============================] - 22s 2ms/step - loss: 3.6280 - temperature_loss: 0.1703 - humidity_loss: 3.4576 - temperature_mean_absolute_error: 0.2763 - humidity_mean_absolute_error: 1.1426\n",
      "Epoch 9/10\n",
      "9200/9200 [==============================] - 22s 2ms/step - loss: 3.6091 - temperature_loss: 0.1680 - humidity_loss: 3.4411 - temperature_mean_absolute_error: 0.2743 - humidity_mean_absolute_error: 1.1389\n",
      "Epoch 10/10\n",
      "9200/9200 [==============================] - 23s 2ms/step - loss: 3.6016 - temperature_loss: 0.1672 - humidity_loss: 3.4344 - temperature_mean_absolute_error: 0.2735 - humidity_mean_absolute_error: 1.1383\n"
     ]
    },
    {
     "data": {
      "text/plain": [
       "<keras.callbacks.History at 0x1ad08e21a60>"
      ]
     },
     "execution_count": 26,
     "metadata": {},
     "output_type": "execute_result"
    }
   ],
   "source": [
    "x_train,y_train=window_gen(train_data,input_steps,output_steps,False)\n",
    "\n",
    "# x_mean_lstm,y_mean_lstm,x_std_lstm,y_std_lstm=mean_std(x_train,y_train)\n",
    "\n",
    "# x_train_norm,y_train_norm=normalization(x_train,y_train,x_mean_lstm,y_mean_lstm,x_std_lstm,y_std_lstm)\n",
    "\n",
    "y_temperature=y_train[:,:,0]\n",
    "y_humidity=y_train[:,:,1]\n",
    "lstm.fit(x_train,[y_temperature,y_humidity],batch_size=32,epochs=10) "
   ]
  },
  {
   "cell_type": "code",
   "execution_count": 27,
   "id": "c2f6a72b",
   "metadata": {},
   "outputs": [
    {
     "name": "stdout",
     "output_type": "stream",
     "text": [
      "9200/9200 - 9s - 9s/epoch - 967us/step\n",
      "[array([[-7.7390575, -7.671955 , -7.6511   ],\n",
      "       [-7.1539745, -7.03901  , -6.97838  ],\n",
      "       [-7.55019  , -7.4653854, -7.4331408],\n",
      "       ...,\n",
      "       [14.873356 , 14.871209 , 14.934268 ],\n",
      "       [15.071829 , 15.077382 , 15.146464 ],\n",
      "       [14.455219 , 14.420535 , 14.448773 ]], dtype=float32), array([[94.07855 , 94.009766, 93.785675],\n",
      "       [94.48122 , 94.3002  , 93.987366],\n",
      "       [94.515045, 94.411804, 94.12756 ],\n",
      "       ...,\n",
      "       [95.33278 , 95.25475 , 95.1232  ],\n",
      "       [94.83707 , 94.71042 , 94.56146 ],\n",
      "       [95.47112 , 95.50137 , 95.44098 ]], dtype=float32)]\n"
     ]
    }
   ],
   "source": [
    "yhat = lstm.predict(x_train, verbose=2)\n",
    "print(yhat)"
   ]
  },
  {
   "cell_type": "markdown",
   "id": "6f3e330d",
   "metadata": {},
   "source": [
    "<b>Run the below cells for validation and testing for the output steps of 3<b>"
   ]
  },
  {
   "cell_type": "code",
   "execution_count": 28,
   "id": "3fc03433",
   "metadata": {},
   "outputs": [],
   "source": [
    "output_steps=3\n",
    "input_steps=6\n",
    "\n",
    "x_val3,y_val3=window_gen(val_data,input_steps,output_steps,False)\n",
    "x_test3,y_test3=window_gen(test_data,input_steps,output_steps,False)\n",
    "\n",
    "\n",
    "# x_val_norm3,y_val_norm3=normalization(x_val3,y_val3,x_mean_lstm,y_mean_lstm,x_std_lstm,y_std_lstm)\n",
    "# x_test_norm3,y_test_norm3=normalization(x_test3,y_test3,x_mean_lstm,y_mean_lstm,x_std_lstm,y_std_lstm)"
   ]
  },
  {
   "cell_type": "code",
   "execution_count": 22,
   "id": "5bfd0a2b",
   "metadata": {},
   "outputs": [
    {
     "data": {
      "text/plain": [
       "array([[[-0.7288558 ,  0.6096731 ],\n",
       "        [-0.7288704 ,  0.6036326 ],\n",
       "        [-0.7346641 ,  0.61571175],\n",
       "        [-0.73698777,  0.6096706 ],\n",
       "        [-0.7439333 ,  0.597591  ],\n",
       "        [-0.74972355,  0.6096703 ]],\n",
       "\n",
       "       [[-0.7288558 ,  0.60363334],\n",
       "        [-0.73464817,  0.61571205],\n",
       "        [-0.7369752 ,  0.609672  ],\n",
       "        [-0.7439212 ,  0.59759116],\n",
       "        [-0.74971116,  0.6096704 ],\n",
       "        [-0.7543459 ,  0.6217497 ]],\n",
       "\n",
       "       [[-0.73463356,  0.61571276],\n",
       "        [-0.7369593 ,  0.6096723 ],\n",
       "        [-0.7439085 ,  0.5975926 ],\n",
       "        [-0.74969906,  0.6096706 ],\n",
       "        [-0.7543335 ,  0.6217498 ],\n",
       "        [-0.7601238 ,  0.62778986]],\n",
       "\n",
       "       ...,\n",
       "\n",
       "       [[-1.3863603 , -0.21778044],\n",
       "        [-1.4245131 , -0.27213913],\n",
       "        [-1.5239136 , -0.07886552],\n",
       "        [-1.566686  ,  0.3258003 ],\n",
       "        [-1.5251008 ,  0.16272546],\n",
       "        [-1.4869827 , -0.20570192]],\n",
       "\n",
       "       [[-1.4244932 , -0.2721388 ],\n",
       "        [-1.5238905 , -0.07886556],\n",
       "        [-1.5666693 ,  0.32580152],\n",
       "        [-1.5250856 ,  0.16272551],\n",
       "        [-1.4869668 , -0.20570196],\n",
       "        [-1.5066276 , -0.19966221]],\n",
       "\n",
       "       [[-1.5238699 , -0.07886513],\n",
       "        [-1.566646  ,  0.32580167],\n",
       "        [-1.5250691 ,  0.16272658],\n",
       "        [-1.4869518 , -0.205702  ],\n",
       "        [-1.5066116 , -0.19966225],\n",
       "        [-1.5204945 , -0.16946325]]], dtype=float32)"
      ]
     },
     "execution_count": 22,
     "metadata": {},
     "output_type": "execute_result"
    }
   ],
   "source": [
    "x_test_norm3"
   ]
  },
  {
   "cell_type": "code",
   "execution_count": 21,
   "id": "38b62159",
   "metadata": {},
   "outputs": [
    {
     "data": {
      "text/plain": [
       "array([[[ 2.8 , 86.  ],\n",
       "        [ 2.8 , 85.9 ],\n",
       "        [ 2.75, 86.1 ],\n",
       "        [ 2.73, 86.  ],\n",
       "        [ 2.67, 85.8 ],\n",
       "        [ 2.62, 86.  ]],\n",
       "\n",
       "       [[ 2.8 , 85.9 ],\n",
       "        [ 2.75, 86.1 ],\n",
       "        [ 2.73, 86.  ],\n",
       "        [ 2.67, 85.8 ],\n",
       "        [ 2.62, 86.  ],\n",
       "        [ 2.58, 86.2 ]],\n",
       "\n",
       "       [[ 2.75, 86.1 ],\n",
       "        [ 2.73, 86.  ],\n",
       "        [ 2.67, 85.8 ],\n",
       "        [ 2.62, 86.  ],\n",
       "        [ 2.58, 86.2 ],\n",
       "        [ 2.53, 86.3 ]],\n",
       "\n",
       "       ...,\n",
       "\n",
       "       [[-2.89, 72.3 ],\n",
       "        [-3.22, 71.4 ],\n",
       "        [-4.08, 74.6 ],\n",
       "        [-4.45, 81.3 ],\n",
       "        [-4.09, 78.6 ],\n",
       "        [-3.76, 72.5 ]],\n",
       "\n",
       "       [[-3.22, 71.4 ],\n",
       "        [-4.08, 74.6 ],\n",
       "        [-4.45, 81.3 ],\n",
       "        [-4.09, 78.6 ],\n",
       "        [-3.76, 72.5 ],\n",
       "        [-3.93, 72.6 ]],\n",
       "\n",
       "       [[-4.08, 74.6 ],\n",
       "        [-4.45, 81.3 ],\n",
       "        [-4.09, 78.6 ],\n",
       "        [-3.76, 72.5 ],\n",
       "        [-3.93, 72.6 ],\n",
       "        [-4.05, 73.1 ]]], dtype=float32)"
      ]
     },
     "execution_count": 21,
     "metadata": {},
     "output_type": "execute_result"
    }
   ],
   "source": [
    "x_test3"
   ]
  },
  {
   "cell_type": "code",
   "execution_count": 30,
   "id": "d2a61919",
   "metadata": {},
   "outputs": [
    {
     "name": "stdout",
     "output_type": "stream",
     "text": [
      "2629/2629 - 3s - 3s/epoch - 974us/step\n"
     ]
    }
   ],
   "source": [
    "y_val_predict_lstm3=lstm.predict(x_val3,verbose=2)"
   ]
  },
  {
   "cell_type": "code",
   "execution_count": 31,
   "id": "6ad8d084",
   "metadata": {},
   "outputs": [
    {
     "data": {
      "text/plain": [
       "[array([[13.752139 , 13.770103 , 13.8444395],\n",
       "        [13.607848 , 13.621939 , 13.693038 ],\n",
       "        [13.590975 , 13.61456  , 13.694638 ],\n",
       "        ...,\n",
       "        [ 2.727688 ,  2.7330096,  2.7721615],\n",
       "        [ 2.847884 ,  2.8563426,  2.8986578],\n",
       "        [ 2.851495 ,  2.8579857,  2.8980556]], dtype=float32),\n",
       " array([[97.68934 , 97.59302 , 97.43286 ],\n",
       "        [98.121185, 98.04272 , 97.88782 ],\n",
       "        [98.113235, 97.99097 , 97.80299 ],\n",
       "        ...,\n",
       "        [89.857666, 89.76277 , 89.66376 ],\n",
       "        [89.54118 , 89.4272  , 89.31853 ],\n",
       "        [88.98436 , 88.86072 , 88.74704 ]], dtype=float32)]"
      ]
     },
     "execution_count": 31,
     "metadata": {},
     "output_type": "execute_result"
    }
   ],
   "source": [
    "y_val_predict_lstm3"
   ]
  },
  {
   "cell_type": "code",
   "execution_count": 32,
   "id": "f0f40c00",
   "metadata": {},
   "outputs": [
    {
     "name": "stdout",
     "output_type": "stream",
     "text": [
      "1314/1314 - 1s - 1s/epoch - 1ms/step\n"
     ]
    }
   ],
   "source": [
    "y_test_predict_lstm3=lstm.predict(x_test3,verbose=2)"
   ]
  },
  {
   "cell_type": "code",
   "execution_count": 34,
   "id": "673c1123",
   "metadata": {},
   "outputs": [
    {
     "ename": "TypeError",
     "evalue": "list indices must be integers or slices, not tuple",
     "output_type": "error",
     "traceback": [
      "\u001b[1;31m---------------------------------------------------------------------------\u001b[0m",
      "\u001b[1;31mTypeError\u001b[0m                                 Traceback (most recent call last)",
      "\u001b[1;32m~\\AppData\\Local\\Temp/ipykernel_20676/2128220151.py\u001b[0m in \u001b[0;36m<module>\u001b[1;34m\u001b[0m\n\u001b[0;32m      1\u001b[0m \u001b[0my_val_temperature_lstm3\u001b[0m\u001b[1;33m=\u001b[0m\u001b[0my_val3\u001b[0m\u001b[1;33m[\u001b[0m\u001b[1;33m:\u001b[0m\u001b[1;33m,\u001b[0m \u001b[1;36m0\u001b[0m\u001b[1;33m:\u001b[0m\u001b[1;33m:\u001b[0m\u001b[1;36m2\u001b[0m\u001b[1;33m]\u001b[0m\u001b[1;33m\u001b[0m\u001b[1;33m\u001b[0m\u001b[0m\n\u001b[0;32m      2\u001b[0m \u001b[0my_val_humidity_lstm3\u001b[0m\u001b[1;33m=\u001b[0m\u001b[0my_val3\u001b[0m\u001b[1;33m[\u001b[0m\u001b[1;33m:\u001b[0m\u001b[1;33m,\u001b[0m \u001b[1;36m1\u001b[0m\u001b[1;33m:\u001b[0m\u001b[1;33m:\u001b[0m\u001b[1;36m2\u001b[0m\u001b[1;33m]\u001b[0m\u001b[1;33m\u001b[0m\u001b[1;33m\u001b[0m\u001b[0m\n\u001b[1;32m----> 3\u001b[1;33m \u001b[0my_val_temperature_predict_lstm3\u001b[0m\u001b[1;33m=\u001b[0m\u001b[0my_val_predict_lstm3\u001b[0m\u001b[1;33m[\u001b[0m\u001b[1;33m:\u001b[0m\u001b[1;33m,\u001b[0m \u001b[1;36m0\u001b[0m\u001b[1;33m:\u001b[0m\u001b[1;33m:\u001b[0m\u001b[1;36m2\u001b[0m\u001b[1;33m]\u001b[0m\u001b[1;33m\u001b[0m\u001b[1;33m\u001b[0m\u001b[0m\n\u001b[0m\u001b[0;32m      4\u001b[0m \u001b[0my_val_humidity_predict_lstm3\u001b[0m\u001b[1;33m=\u001b[0m\u001b[0my_val_predict_lstm3\u001b[0m\u001b[1;33m[\u001b[0m\u001b[1;33m:\u001b[0m\u001b[1;33m,\u001b[0m \u001b[1;36m1\u001b[0m\u001b[1;33m:\u001b[0m\u001b[1;33m:\u001b[0m\u001b[1;36m2\u001b[0m\u001b[1;33m]\u001b[0m\u001b[1;33m\u001b[0m\u001b[1;33m\u001b[0m\u001b[0m\n\u001b[0;32m      5\u001b[0m \u001b[1;33m\u001b[0m\u001b[0m\n",
      "\u001b[1;31mTypeError\u001b[0m: list indices must be integers or slices, not tuple"
     ]
    }
   ],
   "source": [
    "y_val_temperature_lstm3=y_val3[:, 0::2]\n",
    "y_val_humidity_lstm3=y_val3[:, 1::2]\n",
    "y_val_temperature_predict_lstm3=y_val_predict_lstm3[:, 0::2]\n",
    "y_val_humidity_predict_lstm3=y_val_predict_lstm3[:, 1::2]\n",
    "\n",
    "\n",
    "y_test_temperature_lstm3=y_test3[:, 0::2]\n",
    "y_test_humidity_lstm3=y_test3[:, 1::2]\n",
    "y_test_temperature_predict_lstm3=y_test_predict_lstm3[:, 0::2]\n",
    "y_test_humidity_predict_lstm3=y_test_predict_lstm3[:, 1::2]"
   ]
  },
  {
   "cell_type": "code",
   "execution_count": null,
   "id": "320f50cd",
   "metadata": {},
   "outputs": [],
   "source": [
    "val_temperature_mae_lstm3=tf.keras.metrics.mean_absolute_error(y_val_temperature_lstm3,y_val_temperature_predict_lstm3)\n",
    "print(np.mean(val_temperature_mae_lstm3))"
   ]
  },
  {
   "cell_type": "code",
   "execution_count": null,
   "id": "7ae02cd3",
   "metadata": {},
   "outputs": [],
   "source": [
    "val_humidity_mae3=tf.keras.metrics.mean_absolute_error(y_val_humidity_lstm3,y_val_humidity_predict_lstm3)\n",
    "print(np.mean(val_humidity_mae3))"
   ]
  },
  {
   "cell_type": "code",
   "execution_count": null,
   "id": "2e5bd4e8",
   "metadata": {},
   "outputs": [],
   "source": [
    "test_temperature_mae_lstm3=tf.keras.metrics.mean_absolute_error(y_test_temperature_lstm3,y_test_temperature_predict_lstm3)\n",
    "print(np.mean(test_temperature_mae_lstm3))"
   ]
  },
  {
   "cell_type": "code",
   "execution_count": null,
   "id": "9cb8d5db",
   "metadata": {},
   "outputs": [],
   "source": [
    "test_humidity_mae3=tf.keras.metrics.mean_absolute_error(y_test_humidity_lstm3,y_test_humidity_predict_lstm3)\n",
    "print(np.mean(test_humidity_lstm3))"
   ]
  },
  {
   "cell_type": "markdown",
   "id": "5100ede0",
   "metadata": {},
   "source": [
    "<b>Run the below cells for validation and testing for output steps of 9<b>"
   ]
  },
  {
   "cell_type": "code",
   "execution_count": null,
   "id": "6aef0380",
   "metadata": {},
   "outputs": [],
   "source": [
    "#creating the val and test dataset and normalization\n",
    "\n",
    "output_steps=9\n",
    "input_steps=6\n",
    "\n",
    "x_val9,y_val9=window_gen(val_data,input_steps,output_steps,True)\n",
    "x_test9,y_test9=window_gen(test_data,input_steps,output_steps,True)\n",
    "\n",
    "\n",
    "x_val_norm9,y_val_norm9=normalization(x_val9,y_val9,x_mean_lstm,y_mean_lstm,x_std_lstm,y_std_lstm)\n",
    "x_test_norm9,y_test_norm9=normalization(x_test9,y_test9,x_mean_lstm,y_mean_lstm,x_std_lstm,y_std_lstm)"
   ]
  },
  {
   "cell_type": "code",
   "execution_count": null,
   "id": "0b92fafc",
   "metadata": {},
   "outputs": [],
   "source": [
    "y_val_predict_lstm9=lstm.predict(x_val_norm9,verbose=2)"
   ]
  },
  {
   "cell_type": "code",
   "execution_count": null,
   "id": "7ce1ad09",
   "metadata": {},
   "outputs": [],
   "source": [
    "y_test_predict_lstm9=lstm.predict(x_test_norm9,verbose=2)"
   ]
  },
  {
   "cell_type": "code",
   "execution_count": null,
   "id": "709f04e2",
   "metadata": {},
   "outputs": [],
   "source": [
    "y_val_predict_lstm9=lstm.predict(x_val_norm9,verbose=2)\n",
    "val_mae_lstm9=tf.keras.metrics.mean_absolute_error(y_val_norm9,y_val_predict_lstm9)\n",
    "print(np.mean(val_mae_lstm9))"
   ]
  },
  {
   "cell_type": "code",
   "execution_count": null,
   "id": "820bcdb3",
   "metadata": {},
   "outputs": [],
   "source": [
    "y_val_temperature_lstm9=y_val_norm9[:, 0::2]\n",
    "y_val_humidity_lstm9=y_val_norm9[:, 1::2]\n",
    "y_val_temperature_predict_lstm9=y_val_predict_lstm9[:, 0::2]\n",
    "y_val_humidity_predict_lstm9=y_val_predict_lstm9[:, 1::2]\n",
    "\n",
    "\n",
    "y_test_temperature_lstm9=y_test_norm9[:, 0::2]\n",
    "y_test_humidity_lstm9=y_test_norm9[:, 1::2]\n",
    "y_test_temperature_predict_lstm9=y_test_predict_lstm9[:, 0::2]\n",
    "y_test_humidity_predict_lstm9=y_test_predict_lstm9[:, 1::2]"
   ]
  },
  {
   "cell_type": "code",
   "execution_count": null,
   "id": "386c160d",
   "metadata": {},
   "outputs": [],
   "source": [
    "val_temperature_mae_lstm9=tf.keras.metrics.mean_absolute_error(y_val_temperature_lstm9,y_val_temperature_predict_lstm9)\n",
    "print(np.mean(val_temperature_mae_lstm9))\n"
   ]
  },
  {
   "cell_type": "code",
   "execution_count": null,
   "id": "6a7d9d2c",
   "metadata": {},
   "outputs": [],
   "source": [
    "val_humidity_mae9=tf.keras.metrics.mean_absolute_error(y_val_humidity_lstm9,y_val_humidity_predict_lstm9)\n",
    "print(np.mean(val_humidity_mae9))"
   ]
  },
  {
   "cell_type": "code",
   "execution_count": null,
   "id": "c75a4fbb",
   "metadata": {},
   "outputs": [],
   "source": [
    "test_temperature_mae_lstm9=tf.keras.metrics.mean_absolute_error(y_test_temperature_lstm9,y_test_temperature_predict_lstm9)\n",
    "print(np.mean(test_temperature_mae_lstm9))"
   ]
  },
  {
   "cell_type": "code",
   "execution_count": null,
   "id": "1b5bf8b1",
   "metadata": {},
   "outputs": [],
   "source": [
    "test_humidity_mae9=tf.keras.metrics.mean_absolute_error(y_test_humidity_lstm9,y_test_humidity_predict_lstm9)\n",
    "print(np.mean(test_humidity_mae9))"
   ]
  },
  {
   "cell_type": "markdown",
   "id": "4adebfdd",
   "metadata": {},
   "source": [
    "<b>Run the below cells for the pruning procedure</b></br>\n",
    "<b>We have to use the normalized train and test data <br>\n",
    "We have to consider the number of outputs in order to use the right test data (3 or 9) </b> <br>\n",
    " x_test_norm3, y_test_norm3<br>\n",
    "<b>OR</b> <br>\n",
    " x_test_norm9, y_test_norm9 <br>"
   ]
  },
  {
   "cell_type": "code",
   "execution_count": null,
   "id": "d8a7f328",
   "metadata": {},
   "outputs": [],
   "source": [
    "import tensorflow_model_optimization as tfmot\n",
    "import tempfile\n",
    "# prune_low_magnitude = tfmot.sparsity.keras.prune_low_magnitude\n",
    "# model_for_pruning = prune_low_magnitude(cnn)\n",
    "\n",
    "prune_low_magnitude = tfmot.sparsity.keras.prune_low_magnitude\n",
    "\n",
    "# Compute end step to finish pruning after 2 epochs.\n",
    "batch_size = 32\n",
    "epochs = 20 #best values are either 9 or 10\n",
    "validation_split = 0.2  # 10% of training set will be used for validation set.\n",
    "\n",
    "num_images = 294370 * (1 - validation_split)\n",
    "end_step = np.ceil(num_images / batch_size).astype(np.int32) * epochs\n",
    "\n",
    "# Define model for pruning.\n",
    "pruning_params = {\n",
    "    'pruning_schedule': tfmot.sparsity.keras.PolynomialDecay(initial_sparsity=0,\n",
    "                                                             final_sparsity=0.9,\n",
    "                                                             begin_step=0,\n",
    "                                                             end_step=end_step)\n",
    "}\n",
    "\n",
    "model_for_pruning = prune_low_magnitude(lstm, **pruning_params)\n",
    "\n",
    "# `prune_low_magnitude` requires a recompile.\n",
    "model_for_pruning.compile(optimizer='adam',\n",
    "                          loss=tf.keras.losses.MeanAbsoluteError(),\n",
    "                          metrics=['mae'])\n",
    "\n",
    "model_for_pruning.summary()\n",
    "logdir = tempfile.mkdtemp()\n",
    "\n",
    "callbacks = [\n",
    "    tfmot.sparsity.keras.UpdatePruningStep(),\n",
    "    tfmot.sparsity.keras.PruningSummaries(log_dir=logdir),\n",
    "]\n",
    "\n",
    "model_for_pruning.fit(x_train_norm, y_train_norm,\n",
    "                      batch_size=batch_size, epochs=epochs, callbacks=callbacks)\n",
    "_, model_for_pruning_accuracy = model_for_pruning.evaluate(\n",
    "    x_test_norm3, y_test_norm3, verbose=0)\n",
    "\n",
    "print('Pruned test accuracy:', model_for_pruning_accuracy)\n",
    "model_for_export = tfmot.sparsity.keras.strip_pruning(model_for_pruning)\n",
    "\n",
    "_, pruned_keras_file = tempfile.mkstemp('.h5')\n",
    "tf.keras.models.save_model(model_for_export, pruned_keras_file, include_optimizer=False)\n",
    "print('Saved pruned Keras model to:', pruned_keras_file)\n",
    "converter = tf.lite.TFLiteConverter.from_keras_model(model_for_export)\n",
    "converter.optimizations = [tf.lite.Optimize.DEFAULT]\n",
    "pruned_tflite_model = converter.convert()\n",
    "\n",
    "_, pruned_tflite_file = tempfile.mkstemp('.tflite')\n",
    "\n",
    "with open(pruned_tflite_file, 'wb') as f:\n",
    "    f.write(pruned_tflite_model)\n",
    "\n",
    "print('Saved pruned TFLite model to:', pruned_tflite_file)"
   ]
  },
  {
   "cell_type": "code",
   "execution_count": null,
   "id": "39b06517",
   "metadata": {},
   "outputs": [],
   "source": [
    "import zlib, sys\n",
    "\n",
    "filename_in = \"C:/Users/aligh/AppData/Local/Temp/tmpuq0ot4o4.tflite\"\n",
    "filename_out = \"./compressed_cnn9.tflite.zlib\"\n",
    "\n",
    "with open(filename_in, mode=\"rb\") as fin, open(filename_out, mode=\"wb\") as fout:\n",
    "    data = fin.read()\n",
    "    compressed_data = zlib.compress(data, 9)\n",
    "    print(f\"Original size: {sys.getsizeof(data)}\")\n",
    "    # Original size: 1000033\n",
    "    print(f\"Compressed size: {sys.getsizeof(compressed_data)}\")\n",
    "    # Compressed size: 1024\n",
    "\n",
    "    fout.write(compressed_data)"
   ]
  },
  {
   "cell_type": "markdown",
   "id": "9a4d2f78",
   "metadata": {},
   "source": [
    "<b>MAE for the pruned model  <br>\n",
    "(The MAE of the models after the pruning)</b> <br>"
   ]
  },
  {
   "cell_type": "markdown",
   "id": "6b831640",
   "metadata": {},
   "source": [
    " <b>output=9"
   ]
  },
  {
   "cell_type": "code",
   "execution_count": null,
   "id": "ea0cf52f",
   "metadata": {},
   "outputs": [],
   "source": [
    "y_test_predict_lstm9_prune=model_for_pruning.predict(x_test_norm9,verbose=2)"
   ]
  },
  {
   "cell_type": "code",
   "execution_count": null,
   "id": "a27463d9",
   "metadata": {},
   "outputs": [],
   "source": [
    "y_test_temperature_lstm9=y_test_norm9[:, 0::2]\n",
    "y_test_humidity_lstm9=y_test_norm9[:, 1::2]\n",
    "y_test_temperature_predict_lstm9_prune=y_test_predict_lstm9_prune[:, 0::2]\n",
    "y_test_humidity_predict_lstm9_prune=y_test_predict_lstm9_prune[:, 1::2]\n"
   ]
  },
  {
   "cell_type": "code",
   "execution_count": null,
   "id": "5a522ae8",
   "metadata": {},
   "outputs": [],
   "source": [
    "test_temperature_mae_lstm9_prune=tf.keras.metrics.mean_absolute_error(y_test_temperature_lstm9,y_test_temperature_predict_lstm9_prune)\n",
    "print(np.mean(test_temperature_mae_lstm9_prune))"
   ]
  },
  {
   "cell_type": "code",
   "execution_count": null,
   "id": "61a7b175",
   "metadata": {},
   "outputs": [],
   "source": [
    "test_humidity_mae_lstm9_prune=tf.keras.metrics.mean_absolute_error(y_test_humidity_lstm9,y_test_humidity_predict_lstm9_prune)\n",
    "print(np.mean(test_humidity_mae_lstm9_prune))"
   ]
  },
  {
   "cell_type": "markdown",
   "id": "35e456bd",
   "metadata": {},
   "source": [
    "<b>output=3"
   ]
  },
  {
   "cell_type": "code",
   "execution_count": null,
   "id": "f2adadcb",
   "metadata": {},
   "outputs": [],
   "source": [
    "y_test_predict_lstm3_prune=model_for_pruning.predict(x_test_norm3,verbose=2)"
   ]
  },
  {
   "cell_type": "code",
   "execution_count": null,
   "id": "bd94bdd9",
   "metadata": {},
   "outputs": [],
   "source": [
    "y_test_temperature_lstm3=y_test_norm3[:, 0::2]\n",
    "y_test_humidity_lstm3=y_test_norm3[:, 1::2]\n",
    "y_test_temperature_predict_lstm3_prune=y_test_predict_lstm3_prune[:, 0::2]\n",
    "y_test_humidity_predict_lstm3_prune=y_test_predict_lstm3_prune[:, 1::2]\n"
   ]
  },
  {
   "cell_type": "code",
   "execution_count": null,
   "id": "f3c5545c",
   "metadata": {},
   "outputs": [],
   "source": [
    "test_temperature_mae_lstm3_prune=tf.keras.metrics.mean_absolute_error(y_test_temperature_lstm3,y_test_temperature_predict_lstm3_prune)\n",
    "print(np.mean(test_temperature_mae_lstm3_prune))"
   ]
  },
  {
   "cell_type": "code",
   "execution_count": null,
   "id": "9bb66b83",
   "metadata": {},
   "outputs": [],
   "source": [
    "test_humidity_mae_lstm3_prune=tf.keras.metrics.mean_absolute_error(y_test_humidity_lstm3,y_test_humidity_predict_lstm3_prune)\n",
    "print(np.mean(test_humidity_mae_lstm3_prune))"
   ]
  },
  {
   "cell_type": "markdown",
   "id": "d5996706",
   "metadata": {},
   "source": [
    "<b> Best options:</b> <br>\n",
    "\n",
    "<b>Values for output=3  : <br>\n",
    "Model= CNN<br>\n",
    "alpha= 0.25<br>\n",
    "mae (temperature)(before pruning): 0.06391374<br>\n",
    "mae (humidity)(before pruning): 0.069080375<br>\n",
    "mae (temperature)(after pruning): 0.029551366<br>\n",
    "mae (humidity)(after pruning):0.07264139<br>\n",
    "size:1.6 kb<br> </b>\n",
    "==================================================================== <br>\n",
    "<b>Values for output=9  : <br>\n",
    "Model= CNN<br>\n",
    "alpha= 0.25<br>\n",
    "mae (temperature)(before pruning): 0.055685066<br>\n",
    "mae (humidity)(before pruning):0.13104069<br>\n",
    "mae (temperature)(after pruning):0.07200625 <br> \n",
    "mae (humidity)(after pruning): 0.14742073<br>\n",
    "size:1.81 kb<br>\n",
    "</b>"
   ]
  }
 ],
 "metadata": {
  "kernelspec": {
   "display_name": "Python 3 (ipykernel)",
   "language": "python",
   "name": "python3"
  },
  "language_info": {
   "codemirror_mode": {
    "name": "ipython",
    "version": 3
   },
   "file_extension": ".py",
   "mimetype": "text/x-python",
   "name": "python",
   "nbconvert_exporter": "python",
   "pygments_lexer": "ipython3",
   "version": "3.9.7"
  }
 },
 "nbformat": 4,
 "nbformat_minor": 5
}
